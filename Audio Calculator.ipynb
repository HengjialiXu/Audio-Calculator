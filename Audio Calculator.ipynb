{
 "cells": [
  {
   "cell_type": "code",
   "execution_count": 61,
   "metadata": {},
   "outputs": [],
   "source": [
    "#documentation: https://librosa.github.io/librosa/generated/librosa.feature.mfcc.html\n",
    "\n",
    "from python_speech_features import mfcc\n",
    "from python_speech_features import logfbank\n",
    "import scipy.io.wavfile as wav\n",
    "import glob\n",
    "import numpy as np"
   ]
  },
  {
   "cell_type": "code",
   "execution_count": 62,
   "metadata": {},
   "outputs": [
    {
     "name": "stdout",
     "output_type": "stream",
     "text": [
      "C:\\Users\\qan96\\Documents\\GitHub\\Audio-Calculator\n"
     ]
    }
   ],
   "source": [
    "import os\n",
    "cwd = os.getcwd()\n",
    "#cwd = \"C:\\\\Users\\\\qan96\\\\Documents\\\\GitHub\\\\Audio-Calculator\"\n",
    "print(cwd)"
   ]
  },
  {
   "cell_type": "code",
   "execution_count": 84,
   "metadata": {},
   "outputs": [
    {
     "name": "stdout",
     "output_type": "stream",
     "text": [
      "[array([[16.26976594,  6.75409837,  9.39135608, ..., 10.72678368,\n",
      "        11.60265751, 12.26555555],\n",
      "       [17.28148868,  7.17576756, 12.95945248, ..., 11.03262235,\n",
      "        12.23517096, 12.61697634],\n",
      "       [17.61772288,  5.64719229, 21.7397422 , ..., 11.68143268,\n",
      "        12.53069515, 12.87645569],\n",
      "       ...,\n",
      "       [13.25928728, 13.48520309, -5.18970101, ...,  6.92544961,\n",
      "         7.63741251,  7.53024637],\n",
      "       [12.63030516, 10.94916611, -4.51168871, ...,  6.87031632,\n",
      "         7.31165291,  7.53166084],\n",
      "       [12.06383846, 11.25537577,  0.50075832, ...,  6.22250767,\n",
      "         6.92430493,  7.55139646]])]\n",
      "['zero']\n"
     ]
    }
   ],
   "source": [
    "def join_features(mfcc, fbank):\n",
    "    features = np.concatenate((mfcc, fbank), axis=1)\n",
    "    return features\n",
    "\n",
    "plus = 11\n",
    "minus = 12\n",
    "times = 13\n",
    "over = 14\n",
    "\n",
    "features = []\n",
    "labels = []\n",
    "\n",
    "def read_file(files, label):\n",
    "    for file in files:\n",
    "        (rate,sig) = wav.read(file)\n",
    "        mfcc_feat = mfcc(sig, rate, nfft=1536)\n",
    "        fbank_feat = logfbank(sig, rate, nfft=1536)\n",
    "        acoustic_features = join_features(mfcc_feat, fbank_feat)\n",
    "        features.append(acoustic_features)\n",
    "        labels.append(label)\n",
    "        \n",
    "feature_types = [\"zero\", \"one\", \"two\", \"three\", \"four\", \"five\", \"six\", \"seven\", \"eight\",\\\n",
    "                 \"nine\", \"plus\", \"minus\", \"times\", \"over\"]\n",
    "\n",
    "for i in feature_types:\n",
    "    os.chdir(cwd+\"\\\\recording data\\\\\" + i + \"\\\\\")\n",
    "    files = glob.glob( os.path.join(os.getcwd(), '*.wav') )\n",
    "    read_file(files, i)"
   ]
  },
  {
   "cell_type": "code",
   "execution_count": null,
   "metadata": {},
   "outputs": [],
   "source": []
  }
 ],
 "metadata": {
  "kernelspec": {
   "display_name": "Python 3",
   "language": "python",
   "name": "python3"
  },
  "language_info": {
   "codemirror_mode": {
    "name": "ipython",
    "version": 3
   },
   "file_extension": ".py",
   "mimetype": "text/x-python",
   "name": "python",
   "nbconvert_exporter": "python",
   "pygments_lexer": "ipython3",
   "version": "3.7.3"
  }
 },
 "nbformat": 4,
 "nbformat_minor": 2
}
