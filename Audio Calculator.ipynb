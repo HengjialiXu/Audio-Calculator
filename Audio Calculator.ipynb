{
 "cells": [
  {
   "cell_type": "markdown",
   "metadata": {},
   "source": [
    "# Audio Calculator"
   ]
  },
  {
   "cell_type": "code",
   "execution_count": 99,
   "metadata": {},
   "outputs": [],
   "source": [
    "#documentation: https://librosa.github.io/librosa/generated/librosa.feature.mfcc.html\n",
    "from sklearn.ensemble import RandomForestClassifier\n",
    "from python_speech_features import mfcc\n",
    "from python_speech_features import logfbank\n",
    "from sklearn.ensemble import AdaBoostClassifier\n",
    "from sklearn.datasets import make_classification\n",
    "from sklearn.model_selection import train_test_split\n",
    "from sklearn.linear_model import LogisticRegression\n",
    "from sklearn.svm import SVC\n",
    "from sklearn.preprocessing import StandardScaler\n",
    "from sklearn.decomposition import PCA\n",
    "from sklearn.tree import DecisionTreeClassifier\n",
    "from sklearn.metrics import confusion_matrix\n",
    "import scipy.io.wavfile as wav\n",
    "import glob\n",
    "import sys\n",
    "import numpy as np\n",
    "import math\n",
    "import scipy\n",
    "import matplotlib.pyplot as plt\n",
    "import librosa\n",
    "import pandas as pd\n",
    "import seaborn as sn"
   ]
  },
  {
   "cell_type": "markdown",
   "metadata": {},
   "source": [
    "## Find relative path"
   ]
  },
  {
   "cell_type": "code",
   "execution_count": 2,
   "metadata": {},
   "outputs": [
    {
     "name": "stdout",
     "output_type": "stream",
     "text": [
      "C:\\Users\\qan96\\Documents\\GitHub\\Audio-Calculator\n"
     ]
    }
   ],
   "source": [
    "import os\n",
    "\n",
    "if os.getcwd().endswith(\"Calculator\") == True or \\\n",
    "   os.getcwd().endswith(\"Calculator\\\\\") == True or \\\n",
    "   os.getcwd().endswith(\"Calculator/\") == True :\n",
    "    cwd = os.getcwd()\n",
    "\n",
    "print(cwd)"
   ]
  },
  {
   "cell_type": "markdown",
   "metadata": {},
   "source": [
    "## Auxilary functions"
   ]
  },
  {
   "cell_type": "code",
   "execution_count": 3,
   "metadata": {},
   "outputs": [],
   "source": [
    "def join_features(mfcc, fbank):\n",
    "    features = np.concatenate((mfcc, fbank), axis=1)\n",
    "    return features\n",
    "\n",
    "truncate_threshold = 0.1\n",
    "truncate_size = 10000.0\n",
    "pre_emphasis = 0.97\n",
    "\n",
    "def normalize(signal):\n",
    "    result = abs(signal).copy().astype('float64')\n",
    "    xmin = np.min(result)\n",
    "    xmax = np.max(result)\n",
    "    for i in range(0, signal.size):\n",
    "        result[i] = (result[i] - xmin) / (xmax - xmin)\n",
    "        result[i] = \"%.2f\" % result[i]\n",
    "    \n",
    "    return result\n",
    "\n",
    "def calculate_normalized_entropy(signal):\n",
    "    #normalize\n",
    "    signal = normalize(signal)\n",
    "    \n",
    "    p = np.zeros(101)\n",
    "    for i in range(0, signal.size):\n",
    "        p[(signal[i] / 0.01).astype('int64')] += 1\n",
    "    \n",
    "    p = p / signal.size\n",
    "    max_entro = 0.0\n",
    "    min_entro = 1.0\n",
    "    entropy = np.zeros(signal.size)\n",
    "    \n",
    "    for i in range(0, signal.size):\n",
    "        index = (signal[i] / 0.01).astype('int64')\n",
    "        entropy[i] = -p[index]*math.log2(p[index])\n",
    "        max_entro = max(max_entro, entropy[i])\n",
    "        min_entro = min(min_entro, entropy[i])\n",
    "        \n",
    "    for i in range(0,100):\n",
    "        if p[i] == 0:\n",
    "            continue\n",
    "        #print(-p[i]*math.log2(p[i]))\n",
    "        \n",
    "    lamb = (max_entro - min_entro) / 2.0\n",
    "    return entropy, lamb\n",
    "    \n",
    "def plot_sig(sig, ylabel):\n",
    "    plt.figure()\n",
    "    plt.plot(sig)\n",
    "    plt.xlabel(\"time [s]\")\n",
    "    plt.ylabel(ylabel)\n",
    "    plt.show()\n",
    "\n",
    "def preprocess(sig, enable_plot = False, pre_emphasis = False):\n",
    "    if enable_plot == True:\n",
    "        plot_sig(sig, \"before pre-emphasis\")\n",
    "        \n",
    "    if pre_emphasis == True:\n",
    "        sig = np.append(sig[0], sig[1:] - pre_emphasis * sig[:-1])\n",
    "    \n",
    "    if enable_plot == True:\n",
    "        plot_sig(sig, \"after pre-emphasis\")\n",
    "        \n",
    "    start_point = 0\n",
    "    threshold = 0.1\n",
    "    norm_sig = normalize(sig)\n",
    "    \n",
    "    for i in range(0, sig.size):\n",
    "        if norm_sig[i] >= truncate_threshold:\n",
    "            start_point = i\n",
    "            break\n",
    "    \n",
    "    stop_point = sig.size\n",
    "    for i in reversed(range(0, sig.size)):\n",
    "        if norm_sig[i] >= (truncate_threshold):\n",
    "            stop_point = i\n",
    "            break\n",
    "    \n",
    "    #print(\"start point\", start_point)\n",
    "    #print(\"stop point\", stop_point)\n",
    "    sig = sig[start_point:stop_point]\n",
    "    #print(sig.size)\n",
    "    \n",
    "    #strech sig to 6000\n",
    "    sig = librosa.core.resample(sig, sig.size, truncate_size)\n",
    "    \n",
    "    if enable_plot == True:\n",
    "        plot_sig(sig, \"after truncation and resampling\")\n",
    "    #sig = truncate_sig(sig)\n",
    "    \n",
    "    return sig\n",
    "    \n",
    "def read_file(files, label, enable_plot=False):\n",
    "    features = []\n",
    "    labels = []\n",
    "    for file in files:\n",
    "        (rate,sig) = wav.read(file)\n",
    "        \n",
    "        sig, sample_rate = librosa.core.load(file)\n",
    "        #entropy, lamb = calculate_normalized_entropy(sig)\n",
    "        \n",
    "        sig = preprocess(sig, enable_plot)\n",
    "        \n",
    "        mfcc_feat = mfcc(sig, rate, nfft=1536)\n",
    "        fbank_feat = logfbank(sig, rate, nfft=1536)    \n",
    "        acoustic_features = join_features(mfcc_feat, fbank_feat)\n",
    "        acoustic_features = acoustic_features.flatten()\n",
    "        features.append(acoustic_features)\n",
    "        labels.append(label)\n",
    "        \n",
    "    return features, labels\n",
    "        \n",
    "digit_feature_types = [\"zero\", \"one\", \"two\", \"three\", \"four\", \"five\", \"six\", \"seven\", \"eight\",\\\n",
    "                 \"nine\"]\n",
    "\n",
    "feature_types = [\"zero\", \"one\", \"two\", \"three\", \"four\", \"five\", \"six\", \"seven\", \"eight\",\\\n",
    "                 \"nine\", \"plus\", \"minus\", \"times\", \"over\"]\n",
    "\n",
    "op_feature_types = [\"plus\", \"minus\", \"times\", \"over\"]"
   ]
  },
  {
   "cell_type": "markdown",
   "metadata": {},
   "source": [
    "## Load sample data"
   ]
  },
  {
   "cell_type": "code",
   "execution_count": 4,
   "metadata": {
    "scrolled": true
   },
   "outputs": [
    {
     "name": "stdout",
     "output_type": "stream",
     "text": [
      "zero finished\n",
      "one finished\n",
      "two finished\n",
      "three finished\n",
      "four finished\n",
      "five finished\n",
      "six finished\n",
      "seven finished\n",
      "eight finished\n",
      "nine finished\n"
     ]
    },
    {
     "name": "stderr",
     "output_type": "stream",
     "text": [
      "C:\\Users\\qan96\\Anaconda3\\lib\\site-packages\\scipy\\io\\wavfile.py:273: WavFileWarning: Chunk (non-data) not understood, skipping it.\n",
      "  WavFileWarning)\n"
     ]
    },
    {
     "name": "stdout",
     "output_type": "stream",
     "text": [
      "plus finished\n",
      "minus finished\n",
      "times finished\n",
      "over finished\n",
      "Input and preprocessing finished\n"
     ]
    }
   ],
   "source": [
    "digit_features = []\n",
    "digit_labels = []\n",
    "op_features = []\n",
    "op_labels = []\n",
    "for i in digit_feature_types:\n",
    "    if sys.platform.startswith('win32'):\n",
    "         os.chdir(cwd+\"\\\\recording data\\\\\" + i + \"\\\\\")\n",
    "    elif sys.platform.startswith('darwin'):\n",
    "         os.chdir(cwd+\"/recording data/\" + i + \"/\")\n",
    "    \n",
    "    files = glob.glob(os.path.join(os.getcwd(), '*.wav') )\n",
    "    features, labels = read_file(files, i, False)\n",
    "    digit_features.extend(features)\n",
    "    digit_labels.extend(labels)\n",
    "    print(i, \"finished\")\n",
    "\n",
    "for i in op_feature_types:\n",
    "    if sys.platform.startswith('win32'):\n",
    "         os.chdir(cwd+\"\\\\recording data\\\\\" + i + \"\\\\\")\n",
    "    elif sys.platform.startswith('darwin'):\n",
    "         os.chdir(cwd+\"/recording data/\" + i + \"/\")\n",
    "    \n",
    "    files = glob.glob(os.path.join(os.getcwd(), '*.wav') )\n",
    "    features, labels = read_file(files, i, False)\n",
    "    op_features.extend(features)\n",
    "    op_labels.extend(labels)\n",
    "    \n",
    "    print(i, \"finished\")\n",
    "    \n",
    "print(\"Input and preprocessing finished\")"
   ]
  },
  {
   "cell_type": "markdown",
   "metadata": {},
   "source": [
    "## Backup raw features"
   ]
  },
  {
   "cell_type": "code",
   "execution_count": 5,
   "metadata": {
    "scrolled": false
   },
   "outputs": [],
   "source": [
    "digit_features = np.asarray(digit_features)\n",
    "digit_labels = np. asarray(digit_labels)\n",
    "op_features = np.asarray(op_features)\n",
    "op_labels = np. asarray(op_labels)\n",
    "\n",
    "digit_features_backup = digit_features.copy()\n",
    "digit_labels_backup = digit_labels.copy()\n",
    "op_features_backup = op_features.copy()\n",
    "op_labels_backup = op_labels.copy()\n"
   ]
  },
  {
   "cell_type": "markdown",
   "metadata": {},
   "source": [
    "## Retrieve features from backup"
   ]
  },
  {
   "cell_type": "code",
   "execution_count": 94,
   "metadata": {},
   "outputs": [
    {
     "name": "stdout",
     "output_type": "stream",
     "text": [
      "           0          1          2          3          4          5     \\\n",
      "0     -4.898897   5.244830   9.305145   8.679893   6.108264   1.208800   \n",
      "1     -5.689415   2.605010   6.298211   7.067905  15.659499  12.817506   \n",
      "2     -6.317494   3.443348   6.517565   9.527452   2.759677  -2.336275   \n",
      "3     -5.998414   3.532424   1.527295  10.781296  17.273593   1.269391   \n",
      "4     -5.475949   4.702537  -5.969042  -2.817859  19.371516  24.957718   \n",
      "5     -6.440540   2.483213   8.811690   7.401686   6.817587   4.463255   \n",
      "6     -6.419075   2.586243   7.658047  10.631767   4.070762  -3.032648   \n",
      "7     -7.082432   1.079952   6.031781   6.193761   2.863267   1.061565   \n",
      "8     -6.030508   1.934775   2.995217   4.024479  14.021593   8.872403   \n",
      "9     -5.874285   2.441809   3.532756   4.240077  13.266041   7.567142   \n",
      "10    -6.090820   3.532250   7.720346   9.061982   5.279696  -1.222235   \n",
      "11    -6.053360   1.481751   4.727420   8.482877   5.226138  -3.103506   \n",
      "12    -5.736554   4.378426   6.981616   6.843853  13.449978   7.869964   \n",
      "13    -5.757890  -1.679033   1.084363  10.467789  16.002499  -1.281688   \n",
      "14    -6.175468   1.966434   8.769893   9.539927   6.535219   1.047506   \n",
      "15    -6.147343   1.397653   7.524319   7.055966   3.872156   0.307487   \n",
      "16    -5.345904   0.877484  -1.914260   6.471806  17.676533  -1.862001   \n",
      "17    -6.663101  -1.568417   4.148050   4.123099   2.024725  -0.345281   \n",
      "18    -6.416770   1.820426   8.401224   8.119411   5.239806   1.590646   \n",
      "19    -4.063913   0.881646  -5.016613  -8.665434   9.113766  23.305853   \n",
      "20    -6.565437   4.023228   8.518019  10.100574   7.491112   5.741015   \n",
      "21    -6.182260   1.111509   5.621495   4.742139   0.868324  -2.319049   \n",
      "22    -6.994101  -0.788577   5.406372   6.282761   5.834976   2.684333   \n",
      "23    -5.839084   0.542309   5.151555  12.462164   8.020981  -4.980844   \n",
      "24    -6.972132   1.475890   7.093522   7.754616   4.785924   3.061408   \n",
      "25    -6.728309  -0.605181   5.926316   7.718620   8.303672   3.000797   \n",
      "26    -6.592660   0.333407   4.021809   7.529098   5.590593  -1.125754   \n",
      "27    -7.011393   1.326928   4.402297   6.439649   3.282803  -0.472146   \n",
      "28    -7.194322   2.425965   6.083209   7.954916   1.945453  -1.599547   \n",
      "29    -6.499907   0.265143   1.671384  12.636468   5.860558  -7.728407   \n",
      "...         ...        ...        ...        ...        ...        ...   \n",
      "1970  -7.749291   4.306974  -2.787865  -8.173910 -11.729051   7.122543   \n",
      "1971  -9.103395  10.029766   5.575960  -3.697687 -13.856310   3.331291   \n",
      "1972 -10.148099   1.468808   0.618478   3.409841  -1.649673   0.288371   \n",
      "1973  -7.158256  18.529790   8.983453  -8.167974 -19.387068   1.311854   \n",
      "1974  -7.489003  20.882403   7.032325 -12.415305 -17.331534  11.708661   \n",
      "1975 -10.236688   6.630818   0.469086   7.821546  23.796682  11.302611   \n",
      "1976  -9.970899   5.813933   1.826984   2.117602  15.008976  23.827441   \n",
      "1977  -9.849836   5.914733  -0.395295  -1.893193   6.464101  14.609497   \n",
      "1978  -9.781396   5.127617   3.408495   4.180623   3.521627   9.150587   \n",
      "1979 -10.060901   4.564129  -1.073722  -1.280141   9.838962  20.858054   \n",
      "1980  -9.784790   9.226701   2.168137  -1.923096  14.928736  30.628374   \n",
      "1981 -10.119402  -0.282201   1.381600   5.812180   3.220676  12.338276   \n",
      "1982 -10.088284   1.949245   2.055638   2.391672  -2.555270  11.825208   \n",
      "1983  -6.790903  21.049814  10.882740  -8.006734 -20.749650  -3.837377   \n",
      "1984  -9.570338   1.362168  -0.309472   0.774366   1.622509  13.608537   \n",
      "1985  -9.018649  -0.055986   0.126639   2.737963  -0.609611   4.848950   \n",
      "1986  -9.437553   6.588182   3.694331  -2.037308  -6.738430   5.752717   \n",
      "1987  -9.268947   3.376066  -1.988402  -4.630645   1.883615  28.977076   \n",
      "1988  -9.723455   8.319010   3.472583  -2.927346  -3.617971  13.389490   \n",
      "1989  -7.425358  13.361832  15.446006  11.519737   1.656392  -8.913993   \n",
      "1990  -9.453398   1.070590  -3.174231  -0.350834   6.805682  28.620533   \n",
      "1991  -9.319017   3.435580   6.203739   9.437284   4.172870   8.425779   \n",
      "1992  -9.470720   3.162524  -0.557397  -2.586909  -2.255861  15.015761   \n",
      "1993  -8.999269   9.707087   5.351088  -1.875341  -6.164978  11.069050   \n",
      "1994  -7.244174  18.143063  11.571788  -2.201896 -15.480825   0.724412   \n",
      "1995  -9.668463   6.702591  10.579480  12.514438   2.192091  -1.112120   \n",
      "1996  -7.667990  12.559474  12.719167   8.576472  -2.063030  -6.009392   \n",
      "1997  -9.698883   4.744056   4.166147  -0.667313  -7.703906  -5.712966   \n",
      "1998 -11.130324  -1.076935   2.127343   8.232718   4.617930  11.565491   \n",
      "1999 -10.622759   3.916806   7.484139   8.797990   2.966068  14.150530   \n",
      "\n",
      "           6          7          8          9     ...       4826       4827  \\\n",
      "0     -6.185899  -9.107981 -13.444986 -14.461558  ... -14.022091 -14.880755   \n",
      "1     -0.181505  -9.868488 -10.039000  -3.636517  ...  -9.940324  -9.866288   \n",
      "2     -7.895087 -11.039621 -13.490163 -10.294192  ... -12.823365 -13.293879   \n",
      "3    -12.361485  -6.446534  -4.954427  -5.136036  ... -15.626744 -15.815973   \n",
      "4     -5.759078  -9.602180  -7.340651  -3.760835  ... -13.472007 -13.362935   \n",
      "5     -1.647826  -5.972802  -8.511971  -6.931009  ... -14.339813 -14.448822   \n",
      "6     -6.298838  -9.929507 -16.117357 -11.133010  ... -15.010441 -16.430006   \n",
      "7     -3.006995  -3.919006  -8.422927  -7.694804  ... -13.596242 -14.596059   \n",
      "8     -4.014241  -7.286531  -6.804005  -5.781858  ...  -9.863903  -9.788556   \n",
      "9     -7.241156  -5.672404  -2.812196  -4.396601  ... -15.017827 -14.906397   \n",
      "10   -10.592356  -9.703303 -11.055098 -13.174300  ... -13.343706 -14.400584   \n",
      "11    -8.926582  -7.631532 -11.367116 -13.292873  ... -15.056455 -17.640407   \n",
      "12    -3.899708  -7.755027  -6.802517  -6.170171  ... -16.046762 -16.072673   \n",
      "13    -5.944650   6.606195   0.434733 -12.595643  ... -15.263659 -15.305005   \n",
      "14    -3.262201  -4.624955  -9.699238  -9.564485  ... -14.320769 -14.980976   \n",
      "15    -5.475399  -8.272876 -11.552155 -10.727216  ... -16.956239 -18.327563   \n",
      "16   -13.852707  -0.139219  -1.075756 -12.938922  ... -15.163941 -15.253577   \n",
      "17    -2.596152  -3.340806  -6.638115  -4.987156  ... -13.956416 -14.446613   \n",
      "18    -3.682778  -4.838935  -7.445714  -7.901791  ... -14.145421 -15.694775   \n",
      "19    11.973720  -6.147813 -12.801569  -3.238707  ... -12.725026 -12.683440   \n",
      "20    -1.260744  -2.845997  -6.606362  -6.248408  ... -13.656818 -14.649820   \n",
      "21    -9.668822 -11.051702 -12.759847 -11.066786  ... -12.399924 -14.795350   \n",
      "22    -0.082427  -2.106442  -7.641660  -6.999865  ... -16.265792 -16.458158   \n",
      "23    -2.162137  -1.274693 -17.205829 -13.169865  ... -14.835177 -15.227845   \n",
      "24    -2.209327  -4.153854  -7.558637  -6.758771  ... -12.879991 -14.584858   \n",
      "25     1.152840   2.661060  -3.599177  -7.451681  ... -14.463829 -14.617926   \n",
      "26    -0.153864   2.343438  -7.639990  -8.421595  ... -14.585899 -15.868722   \n",
      "27    -8.142844  -7.812684 -10.348050  -8.939717  ... -13.944764 -14.257906   \n",
      "28    -5.651319  -7.964930 -10.936938  -5.949262  ... -13.775866 -14.680436   \n",
      "29     2.138835  -0.446393 -19.851646  -1.917988  ... -14.535188 -16.131207   \n",
      "...         ...        ...        ...        ...  ...        ...        ...   \n",
      "1970  20.215036  12.315401   2.830303 -15.222872  ... -14.073376 -13.797026   \n",
      "1971  17.459344  14.036776   7.598634  -7.942226  ... -15.168601 -14.908400   \n",
      "1972   5.962191  -3.669645  -3.844110  -3.742966  ... -14.535527 -14.093062   \n",
      "1973  10.751781  -0.271961  -9.190699 -13.261225  ... -13.890629 -13.762506   \n",
      "1974  12.439821  -4.871960 -16.934131 -11.909875  ... -15.733354 -15.516233   \n",
      "1975  -8.809038  -6.332161   3.015682   5.259600  ... -20.215726 -20.454238   \n",
      "1976   2.538336  -1.831028  -3.619853   8.664579  ... -17.935338 -17.801587   \n",
      "1977  -5.068098  -6.529361  -6.060535   5.225525  ... -17.577039 -17.435808   \n",
      "1978  -6.320803  -1.356687   1.713860  14.142349  ... -16.775471 -16.593428   \n",
      "1979   3.021197  -0.104119  -2.893753   8.923464  ... -17.644579 -17.549658   \n",
      "1980   9.634409  -5.637255  -8.761196  12.101794  ... -18.677524 -18.589888   \n",
      "1981  21.286607  13.530349  10.451385  -0.917986  ... -14.817291 -14.488953   \n",
      "1982  16.362768  10.767136   8.607539  -2.147774  ... -15.496516 -15.261688   \n",
      "1983  15.141423   7.212468  -3.040285 -14.240363  ... -14.216287 -13.900296   \n",
      "1984   4.127539  -2.987674  -3.236763  -1.188696  ... -15.650510 -15.451926   \n",
      "1985  11.641411   4.057585   5.698696   4.429937  ... -13.789626 -13.414968   \n",
      "1986  14.802613   7.651565   5.623326  -1.277859  ... -15.006349 -14.722119   \n",
      "1987  25.419937  15.868461  -2.861168  -5.882414  ... -16.245932 -16.076841   \n",
      "1988  11.841493   5.810262   1.120304  -4.185464  ... -15.792751 -15.575738   \n",
      "1989  -0.435027   5.394687   1.171461  -3.179883  ... -13.058905 -13.969210   \n",
      "1990  23.730838   9.896125  -3.325110  -9.863449  ... -15.477952 -15.250816   \n",
      "1991   2.765001  -9.555281  -8.926426 -11.358074  ... -14.759617 -14.512506   \n",
      "1992  10.467265   6.430906  -2.618702  -7.441022  ... -16.008938 -15.799251   \n",
      "1993  12.379692  -8.755123 -17.465403 -15.968835  ... -15.040087 -14.767379   \n",
      "1994  12.671438   1.028423  -9.514187 -20.333538  ... -14.475326 -14.197705   \n",
      "1995   3.708363  -4.665333  -5.552722  -6.465143  ... -14.601149 -14.137165   \n",
      "1996  -1.080058 -10.585058 -15.743059 -15.561276  ... -13.412487 -12.910986   \n",
      "1997   6.604591   5.093461   3.352893   2.422145  ... -13.925158 -13.430877   \n",
      "1998   5.968642  -1.131085   4.834467   4.128965  ... -16.072120 -15.819277   \n",
      "1999   7.306713   7.177171   2.030421  -0.370204  ... -16.550900 -16.379567   \n",
      "\n",
      "           4828       4829       4830       4831       4832       4833  \\\n",
      "0    -14.885799 -14.917634 -14.921964 -14.892990 -14.786596 -14.450724   \n",
      "1     -9.810797  -9.744403  -9.658477  -9.589234  -9.524417  -9.451625   \n",
      "2    -15.279702 -15.693278 -15.568090 -15.453158 -15.266511 -14.964696   \n",
      "3    -15.860816 -15.876709 -15.848213 -15.781570 -15.650928 -15.294885   \n",
      "4    -13.220398 -13.021745 -12.742293 -12.389648 -11.874964 -10.887317   \n",
      "5    -14.552276 -14.635330 -14.673968 -14.695741 -14.662529 -14.480777   \n",
      "6    -16.633624 -16.647254 -16.672978 -16.702889 -16.650023 -16.311712   \n",
      "7    -14.842128 -14.960693 -15.012018 -15.051211 -15.034703 -14.910179   \n",
      "8     -9.732498  -9.666249  -9.579565  -9.510932  -9.445800  -9.373241   \n",
      "9    -14.769134 -14.573714 -14.304681 -13.984495 -13.563878 -12.954135   \n",
      "10   -14.617604 -14.764794 -14.871244 -14.967224 -15.063081 -15.090288   \n",
      "11   -17.518945 -17.243909 -16.969847 -16.650790 -16.235793 -15.604396   \n",
      "12   -16.053041 -15.967079 -15.788205 -15.552166 -15.198480 -14.662607   \n",
      "13   -15.295854 -15.218123 -15.050306 -14.816669 -14.468877 -13.933482   \n",
      "14   -15.195124 -15.354315 -15.467809 -15.556358 -15.549413 -15.243206   \n",
      "15   -18.118828 -17.825377 -17.459095 -17.022325 -16.456457 -15.663440   \n",
      "16   -15.272045 -15.220839 -15.084519 -14.877533 -14.558708 -14.043993   \n",
      "17   -14.597363 -14.672618 -14.704318 -14.697387 -14.636489 -14.416171   \n",
      "18   -16.185425 -16.468858 -16.628431 -16.665048 -16.479415 -15.869516   \n",
      "19   -12.629136 -12.519457 -12.333044 -12.090164 -11.738890 -11.189564   \n",
      "20   -17.292081 -17.750800 -17.912980 -17.969027 -17.763037 -16.986299   \n",
      "21   -15.145572 -15.355201 -15.462491 -15.496533 -15.427390 -15.124734   \n",
      "22   -16.607072 -16.645814 -16.592155 -16.437417 -16.139819 -15.593326   \n",
      "23   -15.328934 -15.381726 -15.365222 -15.313801 -15.123826 -14.735349   \n",
      "24   -14.751025 -14.847028 -14.889804 -14.922264 -14.908622 -14.803668   \n",
      "25   -14.739174 -14.824361 -14.849649 -14.841235 -14.743263 -14.447515   \n",
      "26   -16.224439 -16.449686 -16.562250 -16.572178 -16.380699 -15.834807   \n",
      "27   -15.516026 -15.504380 -15.407428 -15.304850 -15.162872 -14.918479   \n",
      "28   -16.173342 -16.472306 -16.541118 -16.462036 -16.344746 -15.997540   \n",
      "29   -16.838725 -16.998074 -16.950668 -16.778574 -16.446744 -15.892161   \n",
      "...         ...        ...        ...        ...        ...        ...   \n",
      "1970 -13.401542 -12.865888 -13.295353 -13.884392 -14.144958 -14.287688   \n",
      "1971 -14.561826 -13.969480 -14.071711 -14.768435 -15.076112 -15.237091   \n",
      "1972 -13.767371 -14.479983 -14.964677 -15.213698 -15.375507 -15.470966   \n",
      "1973 -13.543765 -13.071597 -12.796934 -13.500331 -13.916635 -14.115389   \n",
      "1974 -15.264347 -14.901827 -14.239800 -14.069453 -14.720063 -15.020768   \n",
      "1975 -20.585297 -20.613308 -20.556201 -20.412701 -20.152421 -19.666513   \n",
      "1976 -17.655568 -17.452745 -17.166162 -16.812143 -16.288956 -15.303689   \n",
      "1977 -17.274222 -17.049241 -16.730190 -16.310498 -15.546844 -14.965462   \n",
      "1978 -16.399728 -16.143891 -15.786493 -15.280072 -14.447184 -14.485256   \n",
      "1979 -17.428104 -17.237811 -16.953889 -16.586864 -15.982017 -15.069298   \n",
      "1980 -18.482365 -18.310375 -18.051906 -17.731976 -17.268437 -16.400028   \n",
      "1981 -13.953027 -14.021232 -14.747417 -15.083848 -15.279096 -15.392075   \n",
      "1982 -14.958563 -14.417303 -14.148894 -14.857178 -15.255189 -15.444300   \n",
      "1983 -13.378184 -13.356642 -14.110739 -14.476483 -14.683330 -14.802875   \n",
      "1984 -15.214074 -14.874047 -14.249327 -13.906897 -14.521828 -14.859015   \n",
      "1985 -12.914877 -13.347920 -13.971181 -14.253036 -14.428751 -14.531430   \n",
      "1986 -14.266357 -13.914646 -14.574955 -15.040398 -15.269835 -15.399649   \n",
      "1987 -15.871408 -15.594180 -15.178988 -14.462134 -14.223269 -14.793185   \n",
      "1988 -15.323641 -14.961055 -14.299793 -14.130353 -14.785084 -15.088068   \n",
      "1989 -14.390986 -14.641357 -14.800890 -14.930507 -15.027401 -15.083458   \n",
      "1990 -14.991791 -14.627637 -13.965737 -13.711729 -14.325264 -14.624289   \n",
      "1991 -14.177332 -13.591398 -13.693302 -14.387212 -14.694928 -14.855878   \n",
      "1992 -15.565567 -15.249849 -14.744758 -14.052331 -14.340239 -14.839097   \n",
      "1993 -14.403429 -13.812776 -14.018548 -14.689712 -14.981071 -15.135731   \n",
      "1994 -13.807668 -13.255996 -13.645132 -14.248946 -14.513868 -14.658150   \n",
      "1995 -13.896057 -14.655452 -15.096598 -15.335061 -15.492152 -15.584699   \n",
      "1996 -13.248192 -13.997618 -14.304809 -14.506726 -14.645215 -14.727589   \n",
      "1997 -13.871283 -14.550753 -14.829229 -15.017283 -15.146460 -15.222914   \n",
      "1998 -15.507542 -14.970093 -14.600808 -15.245896 -15.651254 -15.836731   \n",
      "1999 -16.173929 -15.883993 -15.416049 -14.707776 -14.904811 -15.445911   \n",
      "\n",
      "           4834       4835  \n",
      "0    -13.497333 -11.408682  \n",
      "1     -9.367918  -9.465948  \n",
      "2    -14.308989 -12.908643  \n",
      "3    -14.401643 -12.508318  \n",
      "4    -10.438709 -10.805836  \n",
      "5    -13.839876 -11.959362  \n",
      "6    -15.109647 -12.771031  \n",
      "7    -14.394886 -12.765665  \n",
      "8     -9.287769  -9.445362  \n",
      "9    -11.739391 -10.623498  \n",
      "10   -14.598841 -12.519505  \n",
      "11   -14.432895 -12.384297  \n",
      "12   -13.679812 -11.797474  \n",
      "13   -12.954465 -11.088129  \n",
      "14   -14.123952 -11.732311  \n",
      "15   -14.329566 -12.137194  \n",
      "16   -13.080443 -11.211192  \n",
      "17   -13.757459 -12.053282  \n",
      "18   -14.513629 -12.169787  \n",
      "19   -10.007199  -8.873153  \n",
      "20   -15.336525 -12.899048  \n",
      "21   -14.206446 -12.166088  \n",
      "22   -14.511196 -12.476836  \n",
      "23   -13.795151 -11.844607  \n",
      "24   -14.347755 -12.826766  \n",
      "25   -13.621293 -11.558198  \n",
      "26   -14.562213 -12.271825  \n",
      "27   -14.387771 -13.197004  \n",
      "28   -15.147208 -13.437029  \n",
      "29   -14.792580 -12.812329  \n",
      "...         ...        ...  \n",
      "1970 -14.358229 -14.375681  \n",
      "1971 -15.317022 -15.339349  \n",
      "1972 -15.514840 -15.518345  \n",
      "1973 -14.216556 -14.250279  \n",
      "1974 -15.155181 -15.202347  \n",
      "1975 -18.689411 -16.760396  \n",
      "1976 -14.918180 -15.309035  \n",
      "1977 -15.392115 -15.627727  \n",
      "1978 -14.951187 -15.097705  \n",
      "1979 -15.178666 -15.528952  \n",
      "1980 -15.551888 -15.805370  \n",
      "1981 -15.445908 -15.454815  \n",
      "1982 -15.538391 -15.568023  \n",
      "1983 -14.860865 -14.872044  \n",
      "1984 -15.002259 -15.053227  \n",
      "1985 -14.579651 -14.585388  \n",
      "1986 -15.462659 -15.476621  \n",
      "1987 -15.045684 -15.133199  \n",
      "1988 -15.223629 -15.271412  \n",
      "1989 -15.103219 -15.093040  \n",
      "1990 -14.754406 -14.798866  \n",
      "1991 -14.936363 -14.958793  \n",
      "1992 -15.024716 -15.091678  \n",
      "1993 -15.212622 -15.233189  \n",
      "1994 -14.729567 -14.747380  \n",
      "1995 -15.627116 -15.629648  \n",
      "1996 -14.763467 -14.762683  \n",
      "1997 -15.254487 -15.251401  \n",
      "1998 -15.927704 -15.955160  \n",
      "1999 -15.648602 -15.722792  \n",
      "\n",
      "[2000 rows x 4836 columns]\n",
      "(2000, 4836)\n",
      "(2000,)\n",
      "(389, 4836)\n",
      "(389,)\n"
     ]
    }
   ],
   "source": [
    "digit_features = digit_features_backup.copy()\n",
    "digit_labels = digit_labels_backup.copy()\n",
    "\n",
    "\n",
    "print(pd.DataFrame(digit_features))\n",
    "\n",
    "\n",
    "print(digit_features.shape)\n",
    "print(digit_labels.shape)\n",
    "print(op_features.shape)\n",
    "print(op_labels.shape)"
   ]
  },
  {
   "cell_type": "markdown",
   "metadata": {},
   "source": [
    "## Feature validation"
   ]
  },
  {
   "cell_type": "code",
   "execution_count": 7,
   "metadata": {
    "scrolled": true
   },
   "outputs": [],
   "source": [
    "#validate features and labels\n",
    "for i in range(1, digit_features.shape[0]):\n",
    "    if digit_features[i].size != digit_features[0].size:\n",
    "        print(\"digit features\", i)\n",
    "        print(digit_features[i].size)\n",
    "    if digit_labels[i].size != 1:\n",
    "        print(\"digit labels\", i)\n",
    "        print(digit_labels[i].size)"
   ]
  },
  {
   "cell_type": "markdown",
   "metadata": {},
   "source": [
    "## Normalization and PCA feature selection"
   ]
  },
  {
   "cell_type": "code",
   "execution_count": 8,
   "metadata": {},
   "outputs": [],
   "source": [
    "# digit_scaler = StandardScaler()\n",
    "# # Fit on training set only.\n",
    "# digit_scaler.fit(digit_features)\n",
    "\n",
    "# digit_train_set = digit_scaler.transform(digit_train_set)\n",
    "# digit_test_set = digit_scaler.transform(digit_test_set)\n",
    "\n",
    "# digit_pca = PCA(.95)\n",
    "# digit_pca.fit(digit_features)\n",
    "# digit_train_set = digit_pca.transform(digit_train_set)\n",
    "# digit_test_set = digit_pca.transform(digit_test_set)"
   ]
  },
  {
   "cell_type": "markdown",
   "metadata": {},
   "source": [
    "## Logistic regression"
   ]
  },
  {
   "cell_type": "code",
   "execution_count": 10,
   "metadata": {},
   "outputs": [
    {
     "name": "stdout",
     "output_type": "stream",
     "text": [
      "2000\n"
     ]
    }
   ],
   "source": [
    "digit_train_set, digit_test_set, digit_train_label, digit_test_label = train_test_split(digit_features, digit_labels, test_size=1.0/7.0, random_state=0, stratify=digit_labels)\n",
    "op_train_set, op_test_set, op_train_label, op_test_label = train_test_split(op_features, op_labels, test_size=1.0/7.0, random_state=0, stratify=op_labels)\n",
    "print(digit_features.shape[0])"
   ]
  },
  {
   "cell_type": "code",
   "execution_count": 11,
   "metadata": {
    "scrolled": true
   },
   "outputs": [
    {
     "name": "stdout",
     "output_type": "stream",
     "text": [
      "test set accuracy:  82.16783216783216 %\n",
      "train set accuracy:  100.0 %\n"
     ]
    }
   ],
   "source": [
    "digit_logisticRegr = LogisticRegression(multi_class = 'multinomial', solver = 'lbfgs', penalty = 'l2', max_iter = 10000)\n",
    "\n",
    "digit_logisticRegr.fit(digit_train_set, digit_train_label)\n",
    "\n",
    "print(\"test set accuracy: \", digit_logisticRegr.score(digit_test_set, digit_test_label) * 100, \"%\")\n",
    "print(\"train set accuracy: \", digit_logisticRegr.score(digit_train_set, digit_train_label) * 100, \"%\")"
   ]
  },
  {
   "cell_type": "code",
   "execution_count": 106,
   "metadata": {
    "scrolled": false
   },
   "outputs": [
    {
     "name": "stdout",
     "output_type": "stream",
     "text": [
      "test set accuracy:  92.85714285714286 %\n",
      "train set accuracy:  100.0 %\n"
     ]
    },
    {
     "name": "stderr",
     "output_type": "stream",
     "text": [
      "C:\\Users\\qan96\\Anaconda3\\lib\\site-packages\\sklearn\\linear_model\\logistic.py:947: ConvergenceWarning: lbfgs failed to converge. Increase the number of iterations.\n",
      "  \"of iterations.\", ConvergenceWarning)\n"
     ]
    }
   ],
   "source": [
    "op_logisticRegr = LogisticRegression(multi_class = 'multinomial', solver = 'lbfgs', penalty = 'l2')\n",
    "\n",
    "op_logisticRegr.fit(op_train_set, op_train_label)\n",
    "\n",
    "print(\"test set accuracy: \", op_logisticRegr.score(op_test_set, op_test_label) * 100, \"%\")\n",
    "print(\"train set accuracy: \", op_logisticRegr.score(op_train_set, op_train_label) * 100, \"%\")"
   ]
  },
  {
   "cell_type": "code",
   "execution_count": 13,
   "metadata": {},
   "outputs": [],
   "source": [
    "# for i in range(0, op_test_set.shape[0]):\n",
    "#     if test_label[i] in op_feature_types:\n",
    "#         result = op_logisticRegr.predict(op_test_set[i].reshape(1,-1))\n",
    "#         if (result != op_test_label[i]):\n",
    "#             print(\"Correct result:\" + op_test_label[i])\n",
    "#             print(result)"
   ]
  },
  {
   "cell_type": "code",
   "execution_count": 118,
   "metadata": {
    "scrolled": true
   },
   "outputs": [
    {
     "name": "stdout",
     "output_type": "stream",
     "text": [
      "0.9125\n"
     ]
    }
   ],
   "source": [
    "digit_rfc = RandomForestClassifier(n_estimators = 150)\n",
    "digit_X_train, digit_X_val, digit_y_train, digit_y_val = train_test_split(digit_features, digit_labels, test_size=0.2, random_state=10, shuffle = True, stratify=digit_labels)\n",
    "\n",
    "digit_rfc.fit(digit_X_train, digit_y_train)\n",
    "#checking the accuracy of the model\n",
    "print(digit_rfc.score(digit_X_val, digit_y_val))"
   ]
  },
  {
   "cell_type": "code",
   "execution_count": 121,
   "metadata": {},
   "outputs": [
    {
     "name": "stdout",
     "output_type": "stream",
     "text": [
      "[[37  0  0  0  0  0  2  1  0  0]\n",
      " [ 0 31  2  2  4  0  0  0  0  1]\n",
      " [ 0  0 39  0  0  0  0  0  0  1]\n",
      " [ 0  1  0 38  0  1  0  0  0  0]\n",
      " [ 0  0  0  2 38  0  0  0  0  0]\n",
      " [ 0  1  0  0  0 38  0  0  1  0]\n",
      " [ 5  0  0  0  0  0 34  1  0  0]\n",
      " [ 1  0  0  0  0  0  1 35  3  0]\n",
      " [ 0  0  0  0  0  0  0  3 37  0]\n",
      " [ 0  0  0  0  0  1  1  0  0 38]]\n"
     ]
    },
    {
     "data": {
      "image/png": "[encoded data removed]",
      "text/plain": [
       "<Figure size 720x504 with 2 Axes>"
      ]
     },
     "metadata": {},
     "output_type": "display_data"
    }
   ],
   "source": [
    "pred = digit_rfc.predict(digit_X_val)\n",
    "cm = confusion_matrix(digit_y_val, pred)\n",
    "print(cm)\n",
    "df_cm = pd.DataFrame(cm, index = [i for i in digit_feature_types],\n",
    "                  columns = [i for i in digit_feature_types])\n",
    "plt.figure(figsize = (10,7))\n",
    "\n",
    "sn.set(font_scale=1.4)#for label size\n",
    "sn.heatmap(df_cm, annot=True,annot_kws={\"size\": 16})# font size\n",
    "plt.show()"
   ]
  },
  {
   "cell_type": "code",
   "execution_count": 125,
   "metadata": {},
   "outputs": [
    {
     "name": "stdout",
     "output_type": "stream",
     "text": [
      "0.9487179487179487\n"
     ]
    }
   ],
   "source": [
    "op_rfc = RandomForestClassifier(n_estimators = 150)\n",
    "op_X_train, op_X_val, op_y_train, op_y_val = train_test_split(op_features, op_labels, test_size=0.2, random_state=10, shuffle = True, stratify=op_labels)\n",
    "op_rfc.fit(op_X_train, op_y_train)\n",
    "\n",
    "#checking the accuracy of the model\n",
    "print(op_rfc.score(op_X_val, op_y_val))"
   ]
  },
  {
   "cell_type": "code",
   "execution_count": 126,
   "metadata": {},
   "outputs": [
    {
     "name": "stdout",
     "output_type": "stream",
     "text": [
      "[[15  0  0  0]\n",
      " [ 0 14  0  0]\n",
      " [ 0  0 13  0]\n",
      " [ 0  0  0 14]]\n"
     ]
    },
    {
     "data": {
      "image/png": "[encoded data removed]",
      "text/plain": [
       "<Figure size 720x504 with 2 Axes>"
      ]
     },
     "metadata": {},
     "output_type": "display_data"
    }
   ],
   "source": [
    "pred = op_rfc.predict(op_set)\n",
    "cm = confusion_matrix(op_test_label, pred)\n",
    "print(cm)\n",
    "df_cm = pd.DataFrame(cm, index = [i for i in op_feature_types],\n",
    "                  columns = [i for i in op_feature_types])\n",
    "plt.figure(figsize = (10,7))\n",
    "\n",
    "sn.set(font_scale=1.4)#for label size\n",
    "sn.heatmap(df_cm, annot=True,annot_kws={\"size\": 16})# font size\n",
    "plt.show()"
   ]
  },
  {
   "cell_type": "code",
   "execution_count": 16,
   "metadata": {},
   "outputs": [
    {
     "name": "stdout",
     "output_type": "stream",
     "text": [
      "Splitting\n",
      "digit svm fitting...\n",
      "svm digit test accuracy =0.948\n",
      "svm digit train accuracy =1.000\n"
     ]
    }
   ],
   "source": [
    "print(\"Splitting\")\n",
    "X_train, X_val, y_train, y_val = train_test_split(digit_features, digit_labels, test_size=0.2, random_state=10, shuffle = True, stratify=digit_labels)\n",
    "\n",
    "#print(X_train)\n",
    "\n",
    "print(\"digit svm fitting...\")\n",
    "\n",
    "digit_svm = SVC(C=20.0, gamma=0.00001)\n",
    "digit_svm.fit(X_train, y_train)\n",
    "dig_test_acc = digit_svm.score(X_val, y_val)\n",
    "dig_train_acc = digit_svm.score(X_train, y_train)\n",
    "print(\"svm digit test accuracy =%0.3f\" % dig_test_acc)\n",
    "print(\"svm digit train accuracy =%0.3f\" % dig_train_acc)"
   ]
  },
  {
   "cell_type": "code",
   "execution_count": 17,
   "metadata": {},
   "outputs": [
    {
     "name": "stdout",
     "output_type": "stream",
     "text": [
      "operator svm fitting...\n",
      "svm operator test accuracy=0.936\n",
      "svm operator train accuracy=1.000\n"
     ]
    }
   ],
   "source": [
    "X_train, X_val, y_train, y_val = train_test_split(op_features, op_labels, test_size=0.2, random_state=10, shuffle = True, stratify=op_labels)\n",
    "\n",
    "print('operator svm fitting...')\n",
    "op_svm = SVC(C=20.0, gamma=0.00001)\n",
    "op_svm.fit(X_train, y_train)\n",
    "op_test_acc = op_svm.score(X_val, y_val)\n",
    "op_train_acc = op_svm.score(X_train, y_train)\n",
    "print(\"svm operator test accuracy=%0.3f\" % op_test_acc)\n",
    "print(\"svm operator train accuracy=%0.3f\" % op_train_acc)"
   ]
  },
  {
   "cell_type": "code",
   "execution_count": 18,
   "metadata": {},
   "outputs": [
    {
     "name": "stdout",
     "output_type": "stream",
     "text": [
      "digit adaboost with logistic fitting...\n",
      "digit adaboost with logistic test accuracy =0.833\n",
      "digit adaboost with logistic train accuracy =1.000\n"
     ]
    }
   ],
   "source": [
    "X_train, X_val, y_train, y_val = train_test_split(digit_features, digit_labels, test_size=0.2, random_state=10, shuffle = True, stratify=digit_labels)\n",
    "\n",
    "#print(X_train)\n",
    "\n",
    "print(\"digit adaboost with logistic fitting...\")\n",
    "\n",
    "digit_ada_log = AdaBoostClassifier(LogisticRegression(multi_class = 'multinomial', solver = 'lbfgs', penalty = 'l2', max_iter = 10000), n_estimators=100, random_state=0)\n",
    "digit_ada_log.fit(X_train, y_train)\n",
    "dig_test_acc = digit_ada_log.score(X_val, y_val)\n",
    "dig_train_acc = digit_ada_log.score(X_train, y_train)\n",
    "print(\"digit adaboost with logistic test accuracy =%0.3f\" % dig_test_acc)\n",
    "print(\"digit adaboost with logistic train accuracy =%0.3f\" % dig_train_acc)"
   ]
  },
  {
   "cell_type": "code",
   "execution_count": 19,
   "metadata": {},
   "outputs": [
    {
     "name": "stdout",
     "output_type": "stream",
     "text": [
      "Splitting\n",
      "digit adaboost with random forest fitting...\n",
      "digit adaboost with random forest test accuracy =0.895\n",
      "digit adaboost with random forest train accuracy =1.000\n"
     ]
    }
   ],
   "source": [
    "print(\"Splitting\")\n",
    "X_train, X_val, y_train, y_val = train_test_split(digit_features, digit_labels, test_size=0.2, random_state=10, shuffle = True, stratify=digit_labels)\n",
    "\n",
    "#print(X_train)\n",
    "\n",
    "print(\"digit adaboost with random forest fitting...\")\n",
    "\n",
    "digit_ada_rf = AdaBoostClassifier(RandomForestClassifier(n_estimators = 150), n_estimators=100, random_state=0)\n",
    "digit_ada_rf.fit(X_train, y_train)\n",
    "dig_test_acc = digit_ada_rf.score(X_val, y_val)\n",
    "dig_train_acc = digit_ada_rf.score(X_train, y_train)\n",
    "print(\"digit adaboost with random forest test accuracy =%0.3f\" % dig_test_acc)\n",
    "print(\"digit adaboost with random forest train accuracy =%0.3f\" % dig_train_acc)"
   ]
  },
  {
   "cell_type": "code",
   "execution_count": 20,
   "metadata": {},
   "outputs": [
    {
     "name": "stdout",
     "output_type": "stream",
     "text": [
      "Splitting\n",
      "operator adaboost with logistic fitting...\n",
      "operator adaboost with logistic test accuracy =0.936\n",
      "operator adaboost with logistic train accuracy =1.000\n"
     ]
    }
   ],
   "source": [
    "print(\"Splitting\")\n",
    "X_train, X_val, y_train, y_val = train_test_split(op_features, op_labels, test_size=0.2, random_state=10, shuffle = True, stratify=op_labels)\n",
    "\n",
    "print(\"operator adaboost with logistic fitting...\")\n",
    "\n",
    "op_ada_log = AdaBoostClassifier(LogisticRegression(multi_class = 'multinomial', solver = 'lbfgs', penalty = 'l2', max_iter = 10000), n_estimators=100, random_state=0)\n",
    "op_ada_log.fit(X_train, y_train)\n",
    "op_test_acc = op_ada_log.score(X_val, y_val)\n",
    "op_train_acc = op_ada_log.score(X_train, y_train)\n",
    "print(\"operator adaboost with logistic test accuracy =%0.3f\" % op_test_acc)\n",
    "print(\"operator adaboost with logistic train accuracy =%0.3f\" % op_train_acc)"
   ]
  },
  {
   "cell_type": "code",
   "execution_count": 21,
   "metadata": {},
   "outputs": [
    {
     "name": "stdout",
     "output_type": "stream",
     "text": [
      "operator adaboost with random forest fitting...\n",
      "operator adaboost rf test accuracy =0.949\n",
      "operator adaboost rf train accuracy =1.000\n"
     ]
    }
   ],
   "source": [
    "X_train, X_val, y_train, y_val = train_test_split(op_features, op_labels, test_size=0.2, random_state=10, shuffle = True, stratify=op_labels)\n",
    "\n",
    "print(\"operator adaboost with random forest fitting...\")\n",
    "\n",
    "op_ada_rf = AdaBoostClassifier(RandomForestClassifier(n_estimators = 150), n_estimators=100, random_state=0)\n",
    "op_ada_rf.fit(X_train, y_train)\n",
    "op_test_acc = op_ada_rf.score(X_val, y_val)\n",
    "op_train_acc = op_ada_rf.score(X_train, y_train)\n",
    "print(\"operator adaboost rf test accuracy =%0.3f\" % op_test_acc)\n",
    "print(\"operator adaboost rf train accuracy =%0.3f\" % op_train_acc)"
   ]
  },
  {
   "cell_type": "code",
   "execution_count": null,
   "metadata": {},
   "outputs": [],
   "source": [
    "result.append(digit_svm.predict(acoustic_features.reshape(1, -1)))\n",
    "result.append(digit_logisticRegr.predict(acoustic_features.reshape(1,-1)))\n",
    "result.append(digit_rfc.predict(acoustic_features.reshape(1,-1)))\n",
    "result.append(digit_ada_rf.predict(acoustic_features.reshape(1,-1)))\n",
    "result.append(digit_ada_log.predict(acoustic_features.reshape(1,-1)))\n",
    "        "
   ]
  },
  {
   "cell_type": "code",
   "execution_count": 72,
   "metadata": {},
   "outputs": [],
   "source": [
    "models = [\"svm\", \"logistic\", \"rf\", \"adaboost with rf\", \"adaboost with logistic\"]\n",
    "\n",
    "\n",
    "def test_sig(sig, rate, now = \"digit\", enable_plot = False):\n",
    "    \n",
    "    mfcc_feat = mfcc(sig, rate, nfft=1536)\n",
    "    fbank_feat = logfbank(sig, rate, nfft=1536)\n",
    "   \n",
    "    acoustic_features = mfcc_feat\n",
    "    acoustic_features = join_features(mfcc_feat, fbank_feat)\n",
    "    acoustic_features = acoustic_features.flatten()\n",
    "    \n",
    "    result = []\n",
    "    if now == \"digit\":\n",
    "        #acoustic_features = digit_scaler.transform(acoustic_features.reshape(1,-1))\n",
    "        #acoustic_features = digit_pca.transform(acoustic_features)\n",
    "        #print(acoustic_features.shape)\n",
    "        result.append(digit_svm.predict(acoustic_features.reshape(1, -1)))\n",
    "        result.append(digit_logisticRegr.predict(acoustic_features.reshape(1,-1)))\n",
    "        result.append(digit_rfc.predict(acoustic_features.reshape(1,-1)))\n",
    "        result.append(digit_ada_rf.predict(acoustic_features.reshape(1,-1)))\n",
    "        result.append(digit_ada_log.predict(acoustic_features.reshape(1,-1)))\n",
    "    else:\n",
    "        result.append(op_svm.predict(acoustic_features.reshape(1, -1)))\n",
    "        result.append(op_logisticRegr.predict(acoustic_features.reshape(1,-1)))\n",
    "        result.append(op_rfc.predict(acoustic_features.reshape(1,-1)))\n",
    "        result.append(op_ada_rf.predict(acoustic_features.reshape(1,-1)))\n",
    "        result.append(op_ada_log.predict(acoustic_features.reshape(1,-1)))\n",
    "                 \n",
    "    count = np.zeros(10)\n",
    "    \n",
    "    for i in range(0, 5):\n",
    "        print(models[i], result[i])\n",
    "        if now == \"digit\":\n",
    "            for j in range(0, 10):\n",
    "                if digit_feature_types[j] == result[i]:\n",
    "                    count[j] = count[j] + 1\n",
    "                    if i >= 3:\n",
    "                        count[j] = count[j] + 1\n",
    "                    break\n",
    "        if now == \"operator\":\n",
    "            for j in range(0, 5):\n",
    "                if op_feature_types[j] == result[i]:\n",
    "                    count[j] = count[j] + 1\n",
    "                    if i >= 3:\n",
    "                        count[j] = count[j] + 1\n",
    "                    break\n",
    "    return count\n",
    "\n",
    "\n",
    "\n",
    "def read_and_test_file(directory, t = \"digit\", enable_plot = False):\n",
    "    os.chdir(cwd+\"\\\\recording data\\\\\"+directory)\n",
    "    files = glob.glob(os.path.join(os.getcwd(), '*.wav') )\n",
    "    file_n = 0\n",
    "    for file in files:\n",
    "        file_n = file_n + 1\n",
    "        now = t\n",
    "        if now == \"formula\":\n",
    "            if file_n % 2 == 1:\n",
    "                now = \"digit\"\n",
    "            else:\n",
    "                now = \"operator\"\n",
    "        (rate,sig) = wav.read(file)\n",
    "        sig, sample_rate = librosa.core.load(file)\n",
    "        sig = preprocess(sig)\n",
    "        \n",
    "        count = test_sig(sig, rate, now)\n",
    "               \n",
    "        print(file)     \n",
    "        if t == \"formula\":\n",
    "            if file_n == 1:\n",
    "                digit1 = np.argmax(count)\n",
    "            if file_n == 2:\n",
    "                op = np.argmax(count)\n",
    "            if file_n == 3:\n",
    "                digit2 = np.argmax(count)\n",
    "                print(\"\\nFormula acquired!\")\n",
    "                print(\"The formula is: \", digit1, op_feature_types[op], digit2)\n",
    "                \n",
    "                if op == 0:\n",
    "                    print(\"The answer is:\", digit1 + digit2)\n",
    "                if op == 1:\n",
    "                    print(\"The answer is:\", digit1 - digit2)\n",
    "                if op == 2:\n",
    "                    print(\"The answer is:\", digit1 * digit2)\n",
    "                if op == 3:\n",
    "                    if digit2 == 0:\n",
    "                        print(\"denominator couldn't be 0\")\n",
    "                    else:\n",
    "                        print(\"The answer is:\", digit1 / digit2)\n",
    "    \n",
    "truncate_threshold = 0.1\n",
    "def truncate_and_test_audio_file(directory, filename):\n",
    "    os.chdir(cwd+\"\\\\recording data\\\\\"+directory)\n",
    "    file = glob.glob(os.path.join(os.getcwd(), filename) )[0]\n",
    "    (rate,sig) = wav.read(file)\n",
    "    sig, sample_rate = librosa.core.load(file)\n",
    "    sig = preprocess(sig)\n",
    "    \n",
    "    norm_sig = normalize(sig)\n",
    "    \n",
    "    noise_start = 0\n",
    "    noise_length = 0\n",
    "    noise_end = 0\n",
    "    for i in range(1, sig.size):\n",
    "        if sig[i] < truncate_threshold:\n",
    "            if noise_length == 0:\n",
    "                noise_start = i\n",
    "            noise_length = noise_length + 1\n",
    "        else:\n",
    "            if noise_length > 2400:\n",
    "                noise_end = i\n",
    "                break\n",
    "            noise_length = 0\n",
    "    \n",
    "    sig1 = sig[0:noise_start]\n",
    "    \n",
    "    noise_start = 0\n",
    "    noise_length = 0\n",
    "    section_start = noise_end\n",
    "    for i in range(section_start, sig.size):\n",
    "        if sig[i] < truncate_threshold:\n",
    "            if noise_length == 0:\n",
    "                noise_start = i\n",
    "            noise_length = noise_length + 1\n",
    "        else:\n",
    "            if noise_length > 2400:\n",
    "                noise_end = i\n",
    "                break\n",
    "            noise_length = 0\n",
    "    \n",
    "    sig2 = sig[section_start:noise_start]\n",
    "    sig3 = sig[noise_end:]\n",
    "    \n",
    "    sig1 = librosa.core.resample(sig1, sig1.size, truncate_size)\n",
    "    sig2 = librosa.core.resample(sig2, sig2.size, truncate_size)\n",
    "    sig3 = librosa.core.resample(sig3, sig3.size, truncate_size)\n",
    "    \n",
    "    digit1 = np.argmax(test_sig(sig1, rate, \"digit\"))\n",
    "    op = np.argmax(test_sig(sig2, rate, \"op\"))\n",
    "    digit2 = np.argmax(test_sig(sig3, rate, \"digit\"))\n",
    "    \n",
    "    plot_sig(sig, \"sig\")\n",
    "    plot_sig(sig1, \"sig1\")\n",
    "    plot_sig(sig2, \"sig2\")\n",
    "    plot_sig(sig3, \"sig3\")\n",
    "    \n",
    "    print(\"\\nFormula acquired!\")\n",
    "    print(\"The formula is: \", digit1, op_feature_types[op], digit2)\n",
    "    \n",
    "    if op == 0:\n",
    "        print(\"The answer is:\", digit1 + digit2)\n",
    "    if op == 1:\n",
    "        print(\"The answer is:\", digit1 - digit2)\n",
    "    if op == 2:\n",
    "        print(\"The answer is:\", digit1 * digit2)\n",
    "    if op == 3:\n",
    "        if digit2 == 0:\n",
    "            print(\"denominator couldn't be 0\")\n",
    "        else:\n",
    "            print(\"The answer is:\", digit1 / digit2)\n",
    "    "
   ]
  },
  {
   "cell_type": "code",
   "execution_count": 73,
   "metadata": {
    "scrolled": false
   },
   "outputs": [
    {
     "name": "stdout",
     "output_type": "stream",
     "text": [
      "svm ['nine']\n",
      "logistic ['six']\n",
      "rf ['five']\n",
      "adaboost with rf ['five']\n",
      "adaboost with logistic ['seven']\n",
      "C:\\Users\\qan96\\Documents\\GitHub\\Audio-Calculator\\recording data\\formula\\1.wav\n",
      "svm ['plus']\n",
      "logistic ['plus']\n",
      "rf ['plus']\n",
      "adaboost with rf ['plus']\n",
      "adaboost with logistic ['plus']\n",
      "C:\\Users\\qan96\\Documents\\GitHub\\Audio-Calculator\\recording data\\formula\\2.wav\n",
      "svm ['four']\n",
      "logistic ['one']\n",
      "rf ['four']\n",
      "adaboost with rf ['four']\n",
      "adaboost with logistic ['one']\n",
      "C:\\Users\\qan96\\Documents\\GitHub\\Audio-Calculator\\recording data\\formula\\3.wav\n",
      "\n",
      "Formula acquired!\n",
      "The formula is:  5 plus 4\n",
      "The answer is: 9\n"
     ]
    }
   ],
   "source": [
    "read_and_test_file(\"formula\", \"formula\", False)"
   ]
  },
  {
   "cell_type": "code",
   "execution_count": 74,
   "metadata": {
    "scrolled": false
   },
   "outputs": [
    {
     "name": "stdout",
     "output_type": "stream",
     "text": [
      "svm ['one']\n",
      "logistic ['one']\n",
      "rf ['six']\n",
      "adaboost with rf ['six']\n",
      "adaboost with logistic ['one']\n",
      "svm ['plus']\n",
      "logistic ['plus']\n",
      "rf ['over']\n",
      "adaboost with rf ['over']\n",
      "adaboost with logistic ['plus']\n",
      "svm ['six']\n",
      "logistic ['one']\n",
      "rf ['four']\n",
      "adaboost with rf ['four']\n",
      "adaboost with logistic ['four']\n"
     ]
    },
    {
     "data": {
      "image/png": "[encoded data removed]",
      "text/plain": [
       "<Figure size 432x288 with 1 Axes>"
      ]
     },
     "metadata": {
      "needs_background": "light"
     },
     "output_type": "display_data"
    },
    {
     "data": {
      "image/png": "[encoded data removed]",
      "text/plain": [
       "<Figure size 432x288 with 1 Axes>"
      ]
     },
     "metadata": {
      "needs_background": "light"
     },
     "output_type": "display_data"
    },
    {
     "data": {
      "image/png": "[encoded data removed]",
      "text/plain": [
       "<Figure size 432x288 with 1 Axes>"
      ]
     },
     "metadata": {
      "needs_background": "light"
     },
     "output_type": "display_data"
    },
    {
     "data": {
      "image/png": "[encoded data removed]",
      "text/plain": [
       "<Figure size 432x288 with 1 Axes>"
      ]
     },
     "metadata": {
      "needs_background": "light"
     },
     "output_type": "display_data"
    },
    {
     "name": "stdout",
     "output_type": "stream",
     "text": [
      "\n",
      "Formula acquired!\n",
      "The formula is:  1 plus 4\n",
      "The answer is: 5\n"
     ]
    }
   ],
   "source": [
    "truncate_and_test_audio_file(\"singleFile\",\"1+4.wav\")"
   ]
  },
  {
   "cell_type": "code",
   "execution_count": null,
   "metadata": {},
   "outputs": [],
   "source": []
  }
 ],
 "metadata": {
  "kernelspec": {
   "display_name": "Python 3",
   "language": "python",
   "name": "python3"
  },
  "language_info": {
   "codemirror_mode": {
    "name": "ipython",
    "version": 3
   },
   "file_extension": ".py",
   "mimetype": "text/x-python",
   "name": "python",
   "nbconvert_exporter": "python",
   "pygments_lexer": "ipython3",
   "version": "3.7.3"
  }
 },
 "nbformat": 4,
 "nbformat_minor": 2
}
