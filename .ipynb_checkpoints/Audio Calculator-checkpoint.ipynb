{
 "cells": [
  {
   "cell_type": "code",
   "execution_count": null,
   "metadata": {},
   "outputs": [],
   "source": [
    "pip install tensorflow"
   ]
  },
  {
   "cell_type": "code",
   "execution_count": 1,
   "metadata": {},
   "outputs": [
    {
     "name": "stderr",
     "output_type": "stream",
     "text": [
      "Using TensorFlow backend.\n"
     ]
    }
   ],
   "source": [
    "#documentation: https://librosa.github.io/librosa/generated/librosa.feature.mfcc.html\n",
    "\n",
    "from sklearn.ensemble import RandomForestClassifier\n",
    "from python_speech_features import mfcc\n",
    "from python_speech_features import logfbank\n",
    "from sklearn.model_selection import train_test_split\n",
    "from sklearn.linear_model import LogisticRegression\n",
    "from sklearn.svm import SVC\n",
    "from sklearn.preprocessing import StandardScaler\n",
    "from sklearn.decomposition import PCA\n",
    "import scipy.io.wavfile as wav\n",
    "import glob\n",
    "import sys\n",
    "import numpy as np\n",
    "import math\n",
    "import scipy\n",
    "import matplotlib.pyplot as plt\n",
    "import librosa\n",
    "\n",
    "from sklearn.model_selection import GridSearchCV\n",
    "from sklearn.metrics import classification_report\n",
    "from keras.models import Sequential"
   ]
  },
  {
   "cell_type": "code",
   "execution_count": 2,
   "metadata": {},
   "outputs": [
    {
     "name": "stdout",
     "output_type": "stream",
     "text": [
      "/Users/Wengie/Documents/GitHub/Audio-Calculator\n"
     ]
    }
   ],
   "source": [
    "import os\n",
    "\n",
    "if os.getcwd().endswith(\"Calculator\") == True or \\\n",
    "   os.getcwd().endswith(\"Calculator\\\\\") == True or \\\n",
    "   os.getcwd().endswith(\"Calculator/\") == True :\n",
    "    cwd = os.getcwd()\n",
    "\n",
    "print(cwd)"
   ]
  },
  {
   "cell_type": "code",
   "execution_count": 3,
   "metadata": {},
   "outputs": [],
   "source": [
    "def join_features(mfcc, fbank):\n",
    "    features = np.concatenate((mfcc, fbank), axis=1)\n",
    "    return features\n",
    "\n",
    "truncate_threshold = 0.1\n",
    "truncate_size = 10000.0\n",
    "pre_emphasis = 0.97\n",
    "\n",
    "def normalize(signal):\n",
    "    result = abs(signal).copy().astype('float64')\n",
    "    xmin = np.min(result)\n",
    "    xmax = np.max(result)\n",
    "    for i in range(0, signal.size):\n",
    "        result[i] = (result[i] - xmin) / (xmax - xmin)\n",
    "        result[i] = \"%.2f\" % result[i]\n",
    "    \n",
    "    return result\n",
    "\n",
    "def calculate_normalized_entropy(signal):\n",
    "    #normalize\n",
    "    signal = normalize(signal)\n",
    "    \n",
    "    p = np.zeros(101)\n",
    "    for i in range(0, signal.size):\n",
    "        p[(signal[i] / 0.01).astype('int64')] += 1\n",
    "    \n",
    "    p = p / signal.size\n",
    "    max_entro = 0.0\n",
    "    min_entro = 1.0\n",
    "    entropy = np.zeros(signal.size)\n",
    "    \n",
    "    for i in range(0, signal.size):\n",
    "        index = (signal[i] / 0.01).astype('int64')\n",
    "        entropy[i] = -p[index]*math.log2(p[index])\n",
    "        max_entro = max(max_entro, entropy[i])\n",
    "        min_entro = min(min_entro, entropy[i])\n",
    "        \n",
    "    for i in range(0,100):\n",
    "        if p[i] == 0:\n",
    "            continue\n",
    "        #print(-p[i]*math.log2(p[i]))\n",
    "        \n",
    "    lamb = (max_entro - min_entro) / 2.0\n",
    "    return entropy, lamb\n",
    "    \n",
    "def plot_sig(sig, ylabel):\n",
    "    plt.figure()\n",
    "    plt.plot(sig)\n",
    "    plt.xlabel(\"time [s]\")\n",
    "    plt.ylabel(ylabel)\n",
    "    plt.show()\n",
    "\n",
    "def preprocess(sig):\n",
    "    #sig = np.append(sig[0], sig[1:] - pre_emphasis * sig[:-1])\n",
    "    \n",
    "    start_point = 0\n",
    "    threshold = 0.1\n",
    "    norm_sig = normalize(sig)\n",
    "    np.set_printoptions(threshold=sys.maxsize)\n",
    "    \n",
    "    for i in range(0, sig.size):\n",
    "        if norm_sig[i] >= truncate_threshold:\n",
    "            start_point = i\n",
    "            break\n",
    "    \n",
    "    stop_point = sig.size\n",
    "    for i in reversed(range(0, sig.size)):\n",
    "        if norm_sig[i] >= (truncate_threshold):\n",
    "            stop_point = i\n",
    "            break\n",
    "    \n",
    "    #print(\"start point\", start_point)\n",
    "    #print(\"stop point\", stop_point)\n",
    "    sig = sig[start_point:stop_point]\n",
    "    #print(sig.size)\n",
    "    \n",
    "    #strech sig to 6000\n",
    "    sig = librosa.core.resample(sig, sig.size, truncate_size)\n",
    "    \n",
    "    #sig = truncate_sig(sig)\n",
    "    \n",
    "    return sig\n",
    "    \n",
    "def read_file(files, label, enable_plot):\n",
    "    features = []\n",
    "    labels = []\n",
    "    for file in files:\n",
    "        (rate,sig) = wav.read(file)\n",
    "        \n",
    "        sig, sample_rate = librosa.core.load(file)\n",
    "        #entropy, lamb = calculate_normalized_entropy(sig)\n",
    "        \n",
    "        if enable_plot == True:\n",
    "            plot_sig(sig, \"before\")\n",
    "        sig = preprocess(sig)\n",
    "        \n",
    "        mfcc_feat = mfcc(sig, rate, nfft=1536)\n",
    "        fbank_feat = logfbank(sig, rate, nfft=1536)    \n",
    "        acoustic_features = join_features(mfcc_feat, fbank_feat)\n",
    "        acoustic_features = acoustic_features.flatten()\n",
    "        features.append(acoustic_features)\n",
    "        labels.append(label)\n",
    "        if enable_plot == True:\n",
    "            plot_sig(sig, \"after\")\n",
    "        \n",
    "    return features, labels\n",
    "        \n",
    "digit_feature_types = [\"zero\", \"one\", \"two\", \"three\", \"four\", \"five\", \"six\", \"seven\", \"eight\",\\\n",
    "                 \"nine\"]\n",
    "\n",
    "feature_types = [\"zero\", \"one\", \"two\", \"three\", \"four\", \"five\", \"six\", \"seven\", \"eight\",\\\n",
    "                 \"nine\", \"plus\", \"minus\", \"times\", \"over\"]\n",
    "\n",
    "op_feature_types = [\"plus\", \"minus\", \"times\", \"over\"]"
   ]
  },
  {
   "cell_type": "code",
   "execution_count": 4,
   "metadata": {
    "scrolled": true
   },
   "outputs": [
    {
     "name": "stdout",
     "output_type": "stream",
     "text": [
      "zero finished\n",
      "one finished\n",
      "two finished\n",
      "three finished\n",
      "four finished\n",
      "five finished\n",
      "six finished\n",
      "seven finished\n",
      "eight finished\n",
      "nine finished\n"
     ]
    },
    {
     "name": "stderr",
     "output_type": "stream",
     "text": [
      "/Users/Wengie/anaconda3/lib/python3.7/site-packages/scipy/io/wavfile.py:273: WavFileWarning: Chunk (non-data) not understood, skipping it.\n",
      "  WavFileWarning)\n"
     ]
    },
    {
     "name": "stdout",
     "output_type": "stream",
     "text": [
      "plus finished\n",
      "minus finished\n",
      "times finished\n",
      "over finished\n",
      "Input and preprocessing finished\n"
     ]
    }
   ],
   "source": [
    "digit_features = []\n",
    "digit_labels = []\n",
    "op_features = []\n",
    "op_labels = []\n",
    "for i in digit_feature_types:\n",
    "    if sys.platform.startswith('win32'):\n",
    "         os.chdir(cwd+\"\\\\recording data\\\\\" + i + \"\\\\\")\n",
    "    elif sys.platform.startswith('darwin'):\n",
    "         os.chdir(cwd+\"/recording data/\" + i + \"/\")\n",
    "    \n",
    "    files = glob.glob(os.path.join(os.getcwd(), '*.wav') )\n",
    "    features, labels = read_file(files, i, False)\n",
    "    digit_features.extend(features)\n",
    "    digit_labels.extend(labels)\n",
    "    print(i, \"finished\")\n",
    "\n",
    "for i in op_feature_types:\n",
    "    if sys.platform.startswith('win32'):\n",
    "         os.chdir(cwd+\"\\\\recording data\\\\\" + i + \"\\\\\")\n",
    "    elif sys.platform.startswith('darwin'):\n",
    "         os.chdir(cwd+\"/recording data/\" + i + \"/\")\n",
    "    \n",
    "    files = glob.glob(os.path.join(os.getcwd(), '*.wav') )\n",
    "    features, labels = read_file(files, i, False)\n",
    "    op_features.extend(features)\n",
    "    op_labels.extend(labels)\n",
    "    \n",
    "    print(i, \"finished\")\n",
    "    \n",
    "print(\"Input and preprocessing finished\")"
   ]
  },
  {
   "cell_type": "code",
   "execution_count": 5,
   "metadata": {
    "scrolled": false
   },
   "outputs": [],
   "source": [
    "digit_features = np.asarray(digit_features)\n",
    "digit_labels = np. asarray(digit_labels)\n",
    "op_features = np.asarray(op_features)\n",
    "op_labels = np. asarray(op_labels)\n",
    "\n",
    "digit_features_backup = digit_features.copy()\n",
    "digit_labels_backup = digit_labels.copy()\n",
    "op_features_backup = op_features.copy()\n",
    "op_labels_backup = op_labels.copy()\n"
   ]
  },
  {
   "cell_type": "code",
   "execution_count": 6,
   "metadata": {},
   "outputs": [
    {
     "name": "stdout",
     "output_type": "stream",
     "text": [
      "(2000, 4836)\n",
      "(2000,)\n",
      "(389, 4836)\n",
      "(389,)\n"
     ]
    }
   ],
   "source": [
    "digit_features = digit_features_backup.copy()\n",
    "digit_labels = digit_labels_backup.copy()\n",
    "\n",
    "print(digit_features.shape)\n",
    "print(digit_labels.shape)\n",
    "\n",
    "print(op_features.shape)\n",
    "print(op_labels.shape)"
   ]
  },
  {
   "cell_type": "code",
   "execution_count": 7,
   "metadata": {
    "scrolled": true
   },
   "outputs": [],
   "source": [
    "#validate features and labels\n",
    "for i in range(1, digit_features.shape[0]):\n",
    "    if digit_features[i].size != digit_features[0].size:\n",
    "        print(\"digit features\", i)\n",
    "        print(digit_features[i].size)\n",
    "    if digit_labels[i].size != 1:\n",
    "        print(\"digit labels\", i)\n",
    "        print(digit_labels[i].size)\n",
    "\n",
    "\n",
    "digit_train_set, digit_test_set, digit_train_label, digit_test_label = train_test_split(digit_features, digit_labels, test_size=1.0/7.0, random_state=0, stratify=digit_labels)\n",
    "op_train_set, op_test_set, op_train_label, op_test_label = train_test_split(op_features, op_labels, test_size=1.0/7.0, random_state=0, stratify=op_labels)"
   ]
  },
  {
   "cell_type": "code",
   "execution_count": null,
   "metadata": {},
   "outputs": [],
   "source": [
    "# digit_scaler = StandardScaler()\n",
    "# # Fit on training set only.\n",
    "# digit_scaler.fit(digit_train_set)\n",
    "\n",
    "# digit_train_set = digit_scaler.transform(digit_train_set)\n",
    "# digit_test_set = digit_scaler.transform(digit_test_set)\n",
    "\n",
    "# digit_pca = PCA(.95)\n",
    "# digit_pca.fit(digit_train_set)\n",
    "# digit_train_set = digit_pca.transform(digit_train_set)\n",
    "# digit_test_set = digit_pca.transform(digit_test_set)\n",
    "\n",
    "# print(digit_train_set.shape)\n",
    "# print(digit_test_set.shape)"
   ]
  },
  {
   "cell_type": "markdown",
   "metadata": {},
   "source": [
    "# Logistic Regression"
   ]
  },
  {
   "cell_type": "code",
   "execution_count": null,
   "metadata": {
    "scrolled": true
   },
   "outputs": [],
   "source": [
    "digit_logisticRegr = LogisticRegression(multi_class = 'multinomial', solver = 'lbfgs', penalty = 'l2', max_iter = 10000)\n",
    "\n",
    "digit_logisticRegr.fit(digit_train_set, digit_train_label)"
   ]
  },
  {
   "cell_type": "code",
   "execution_count": null,
   "metadata": {},
   "outputs": [],
   "source": [
    "# Predict for One Observation (image)\n",
    "\n",
    "# for i in range(0, digit_test_set.shape[0]):\n",
    "#     if test_label[i] in digit_feature_types:\n",
    "#         result = digit_logisticRegr.predict(digit_test_set[i].reshape(1,-1))\n",
    "#         if (result != digit_test_label[i]):\n",
    "#             print(\"Correct result:\" + digit_test_label[i])\n",
    "#             print(result)\n",
    "    \n",
    "print(\"test set accuracy: \", digit_logisticRegr.score(digit_test_set, digit_test_label) * 100, \"%\")\n",
    "print(\"train set accuracy: \", digit_logisticRegr.score(digit_train_set, digit_train_label) * 100, \"%\")"
   ]
  },
  {
   "cell_type": "code",
   "execution_count": null,
   "metadata": {},
   "outputs": [],
   "source": [
    "op_logisticRegr = LogisticRegression(multi_class = 'multinomial', solver = 'lbfgs', penalty = 'l2')\n",
    "\n",
    "op_logisticRegr.fit(op_train_set, op_train_label)"
   ]
  },
  {
   "cell_type": "code",
   "execution_count": null,
   "metadata": {},
   "outputs": [],
   "source": [
    "for i in range(0, op_test_set.shape[0]):\n",
    "    if op_test_label[i] in op_feature_types:\n",
    "        result = op_logisticRegr.predict(op_test_set[i].reshape(1,-1))\n",
    "        if (result != op_test_label[i]):\n",
    "            print(\"Correct result:\" + op_test_label[i])\n",
    "            print(result)\n",
    "    \n",
    "print(\"test set accuracy: \", op_logisticRegr.score(op_test_set, op_test_label) * 100, \"%\")\n",
    "print(\"train set accuracy: \", op_logisticRegr.score(op_train_set, op_train_label) * 100, \"%\")"
   ]
  },
  {
   "cell_type": "markdown",
   "metadata": {},
   "source": [
    "# Random Forest Model"
   ]
  },
  {
   "cell_type": "code",
   "execution_count": null,
   "metadata": {},
   "outputs": [],
   "source": [
    "digit_rfc = RandomForestClassifier(n_estimators = 150)\n",
    "X_train, X_val, y_train, y_val = train_test_split(digit_features, digit_labels, test_size=0.2, random_state=10, shuffle = True, stratify=digit_labels)\n",
    "\n",
    "digit_rfc.fit(X_train, y_train)\n",
    "#checking the accuracy of the model\n",
    "print(digit_rfc.score(X_val, y_val))"
   ]
  },
  {
   "cell_type": "code",
   "execution_count": null,
   "metadata": {},
   "outputs": [],
   "source": [
    "op_rfc = RandomForestClassifier(n_estimators = 150)\n",
    "X_train, X_val, y_train, y_val = train_test_split(op_features, op_labels, test_size=0.2, random_state=10, shuffle = True, stratify=op_labels)\n",
    "op_rfc.fit(X_train, y_train)\n",
    "\n",
    "#checking the accuracy of the model\n",
    "print(op_rfc.score(X_val, y_val))"
   ]
  },
  {
   "cell_type": "code",
   "execution_count": null,
   "metadata": {},
   "outputs": [],
   "source": [
    "def read_and_test_file(directory, t = \"digit\"):\n",
    "    os.chdir(cwd+\"/recording data/\"+directory)\n",
    "    files = glob.glob(os.path.join(os.getcwd(), '*.wav') )\n",
    "    for file in files:\n",
    "        (rate,sig) = wav.read(file)\n",
    "        sig, sample_rate = librosa.core.load(file)\n",
    "        plot_sig(sig, \"Amplitude before truncation\")\n",
    "        sig = preprocess(sig)\n",
    "        plot_sig(sig, \"Amplitude after truncation\")\n",
    "        mfcc_feat = mfcc(sig, rate, nfft=1536)\n",
    "        fbank_feat = logfbank(sig, rate, nfft=1536)\n",
    "        \n",
    "        acoustic_features = mfcc_feat\n",
    "        acoustic_features = join_features(mfcc_feat, fbank_feat)\n",
    "        acoustic_features = acoustic_features.flatten()\n",
    "        print(acoustic_features.shape)\n",
    "        if t == \"digit\":\n",
    "            print(acoustic_features.shape)\n",
    "            clf_result = clf.predict(acoustic_features.reshape(1,-1))\n",
    "            rf_result = digit_rfc.predict(acoustic_features.reshape(1,-1))\n",
    "            #acoustic_features = digit_scaler.transform(acoustic_features.reshape(1,-1))\n",
    "            #acoustic_features = digit_pca.transform(acoustic_features)\n",
    "            print(acoustic_features.shape)\n",
    "            logistic_result = digit_logisticRegr.predict(acoustic_features.reshape(1,-1))\n",
    "        else:\n",
    "            logistic_result = op_logisticRegr.predict(acoustic_features.reshape(1,-1))\n",
    "            rf_result = op_rfc.predict(acoustic_features.reshape(1,-1))\n",
    "            \n",
    "        print(file)\n",
    "        print(\"logistic: \")\n",
    "        print(logistic_result)\n",
    "        print(\"random forest: \")\n",
    "        print(rf_result)\n",
    "        print(\"clf result: \")\n",
    "        print(clf_result)"
   ]
  },
  {
   "cell_type": "code",
   "execution_count": null,
   "metadata": {
    "scrolled": false
   },
   "outputs": [],
   "source": [
    "read_and_test_file(\"test\", \"digit\")"
   ]
  },
  {
   "cell_type": "raw",
   "metadata": {},
   "source": []
  },
  {
   "cell_type": "code",
   "execution_count": null,
   "metadata": {
    "scrolled": false
   },
   "outputs": [],
   "source": [
    "read_and_test_file(\"op_test\", \"op\")"
   ]
  },
  {
   "cell_type": "markdown",
   "metadata": {},
   "source": [
    "# svm\n"
   ]
  },
  {
   "cell_type": "code",
   "execution_count": null,
   "metadata": {},
   "outputs": [],
   "source": [
    "X_train, X_val, y_train, y_val = train_test_split(digit_features, digit_labels, test_size=0.2, random_state=10, shuffle = True, stratify=digit_labels)"
   ]
  },
  {
   "cell_type": "code",
   "execution_count": null,
   "metadata": {},
   "outputs": [],
   "source": [
    "print('digit svm fitting...')\n",
    "clf = SVC(C=20.0, gamma=0.00001)\n",
    "clf.fit(X_train, y_train)\n",
    "dig_test_acc = clf.score(X_val, y_val)\n",
    "dig_train_acc = clf.score(X_train, y_train)\n",
    "print(\"svm digit test accuracy =%0.3f\" % dig_test_acc)\n",
    "print(\"svm digit train accuracy =%0.3f\" % dig_train_acc)"
   ]
  },
  {
   "cell_type": "code",
   "execution_count": null,
   "metadata": {},
   "outputs": [],
   "source": [
    "X_train, X_val, y_train, y_val = train_test_split(op_features, op_labels, test_size=0.2, random_state=10, shuffle = True, stratify=op_labels)\n",
    "\n",
    "print('operator svm fitting...')\n",
    "clf = SVC(C=20.0, gamma=0.00001)\n",
    "clf.fit(X_train, y_train)\n",
    "op_test_acc = clf.score(X_val, y_val)\n",
    "op_train_acc = clf.score(X_train, y_train)\n",
    "print(\"svm operator test accuracy=%0.3f\" % op_test_acc)\n",
    "print(\"svm operator train accuracy=%0.3f\" % op_train_acc)"
   ]
  },
  {
   "cell_type": "markdown",
   "metadata": {},
   "source": [
    "# function to tune svm hyperparameters, no need to run every time"
   ]
  },
  {
   "cell_type": "code",
   "execution_count": null,
   "metadata": {},
   "outputs": [],
   "source": [
    "\n",
    "#Grid search for best parameters\n",
    "# Set the parameters by cross-validation\n",
    "tuned_parameters = [{'kernel': ['rbf'], 'gamma': [1e-3, 1e-4, 1e-5],\n",
    "                     'C': [1, 10 ,20,30,40,50]}]\n",
    "#, {'kernel': ['linear'], 'C': [1, 10, 100, 1000]}]\n",
    "\n",
    "scores = ['precision', 'recall']\n",
    "\n",
    "for score in scores:\n",
    "    print(\"# Tuning hyper-parameters for %s\" % score)\n",
    "    print('')\n",
    "\n",
    "    clf = GridSearchCV(SVC(), tuned_parameters, cv=5,\n",
    "                        scoring='%s_macro' % score)\n",
    "    clf.fit(X_train, y_train)\n",
    "\n",
    "    print(\"Best parameters set found on development set:\")\n",
    "    print('')\n",
    "    print(clf.best_params_)\n",
    "    print('')\n",
    "    print(\"Grid scores on development set:\")\n",
    "    print('')\n",
    "    means = clf.cv_results_['mean_test_score']\n",
    "    stds = clf.cv_results_['std_test_score']\n",
    "    for mean, std, params in zip(means, stds, clf.cv_results_['params']):\n",
    "        print(\"%0.3f (+/-%0.03f) for %r\"\n",
    "               % (mean, std * 2, params))\n",
    "    print('')\n",
    "\n",
    "    print(\"Detailed classification report:\")\n",
    "    print('')\n",
    "    print(\"The model is trained on the full development set.\")\n",
    "    print(\"The scores are computed on the full evaluation set.\")\n",
    "    print('')\n",
    "    y_true, y_pred = y_val, clf.predict(X_val)\n",
    "    print(classification_report(y_true, y_pred))\n",
    "    print('')"
   ]
  },
  {
   "cell_type": "markdown",
   "metadata": {},
   "source": [
    "# CNN"
   ]
  },
  {
   "cell_type": "code",
   "execution_count": 41,
   "metadata": {},
   "outputs": [],
   "source": [
    "import keras\n",
    "from keras.models import Sequential\n",
    "from keras.layers import Dense, Conv2D, Dropout, Flatten, MaxPooling2D\n",
    "from keras.models import model_from_json"
   ]
  },
  {
   "cell_type": "code",
   "execution_count": 52,
   "metadata": {},
   "outputs": [
    {
     "ename": "ValueError",
     "evalue": "invalid literal for int() with base 10: 'eight'",
     "output_type": "error",
     "traceback": [
      "\u001b[0;31m---------------------------------------------------------------------------\u001b[0m",
      "\u001b[0;31mValueError\u001b[0m                                Traceback (most recent call last)",
      "\u001b[0;32m<ipython-input-52-ec9aeff0b8fd>\u001b[0m in \u001b[0;36m<module>\u001b[0;34m\u001b[0m\n\u001b[1;32m      8\u001b[0m \u001b[0minput_shape\u001b[0m \u001b[0;34m=\u001b[0m \u001b[0;34m(\u001b[0m\u001b[0mimheight\u001b[0m\u001b[0;34m,\u001b[0m \u001b[0mimwidth\u001b[0m\u001b[0;34m,\u001b[0m \u001b[0;36m1\u001b[0m\u001b[0;34m)\u001b[0m\u001b[0;34m\u001b[0m\u001b[0;34m\u001b[0m\u001b[0m\n\u001b[1;32m      9\u001b[0m \u001b[0;34m\u001b[0m\u001b[0m\n\u001b[0;32m---> 10\u001b[0;31m \u001b[0my_train\u001b[0m \u001b[0;34m=\u001b[0m \u001b[0mkeras\u001b[0m\u001b[0;34m.\u001b[0m\u001b[0mutils\u001b[0m\u001b[0;34m.\u001b[0m\u001b[0mto_categorical\u001b[0m\u001b[0;34m(\u001b[0m\u001b[0my_train\u001b[0m\u001b[0;34m,\u001b[0m \u001b[0mnum_classes\u001b[0m\u001b[0;34m)\u001b[0m\u001b[0;34m\u001b[0m\u001b[0;34m\u001b[0m\u001b[0m\n\u001b[0m\u001b[1;32m     11\u001b[0m \u001b[0my_test\u001b[0m \u001b[0;34m=\u001b[0m \u001b[0mkeras\u001b[0m\u001b[0;34m.\u001b[0m\u001b[0mutils\u001b[0m\u001b[0;34m.\u001b[0m\u001b[0mto_categorical\u001b[0m\u001b[0;34m(\u001b[0m\u001b[0my_test\u001b[0m\u001b[0;34m,\u001b[0m \u001b[0mnum_classes\u001b[0m\u001b[0;34m)\u001b[0m\u001b[0;34m\u001b[0m\u001b[0;34m\u001b[0m\u001b[0m\n",
      "\u001b[0;32m~/anaconda3/lib/python3.7/site-packages/keras/utils/np_utils.py\u001b[0m in \u001b[0;36mto_categorical\u001b[0;34m(y, num_classes, dtype)\u001b[0m\n\u001b[1;32m     41\u001b[0m     \"\"\"\n\u001b[1;32m     42\u001b[0m \u001b[0;34m\u001b[0m\u001b[0m\n\u001b[0;32m---> 43\u001b[0;31m     \u001b[0my\u001b[0m \u001b[0;34m=\u001b[0m \u001b[0mnp\u001b[0m\u001b[0;34m.\u001b[0m\u001b[0marray\u001b[0m\u001b[0;34m(\u001b[0m\u001b[0my\u001b[0m\u001b[0;34m,\u001b[0m \u001b[0mdtype\u001b[0m\u001b[0;34m=\u001b[0m\u001b[0;34m'int'\u001b[0m\u001b[0;34m)\u001b[0m\u001b[0;34m\u001b[0m\u001b[0;34m\u001b[0m\u001b[0m\n\u001b[0m\u001b[1;32m     44\u001b[0m     \u001b[0minput_shape\u001b[0m \u001b[0;34m=\u001b[0m \u001b[0my\u001b[0m\u001b[0;34m.\u001b[0m\u001b[0mshape\u001b[0m\u001b[0;34m\u001b[0m\u001b[0;34m\u001b[0m\u001b[0m\n\u001b[1;32m     45\u001b[0m     \u001b[0;32mif\u001b[0m \u001b[0minput_shape\u001b[0m \u001b[0;32mand\u001b[0m \u001b[0minput_shape\u001b[0m\u001b[0;34m[\u001b[0m\u001b[0;34m-\u001b[0m\u001b[0;36m1\u001b[0m\u001b[0;34m]\u001b[0m \u001b[0;34m==\u001b[0m \u001b[0;36m1\u001b[0m \u001b[0;32mand\u001b[0m \u001b[0mlen\u001b[0m\u001b[0;34m(\u001b[0m\u001b[0minput_shape\u001b[0m\u001b[0;34m)\u001b[0m \u001b[0;34m>\u001b[0m \u001b[0;36m1\u001b[0m\u001b[0;34m:\u001b[0m\u001b[0;34m\u001b[0m\u001b[0;34m\u001b[0m\u001b[0m\n",
      "\u001b[0;31mValueError\u001b[0m: invalid literal for int() with base 10: 'eight'"
     ]
    }
   ],
   "source": [
    "imwidth= 78\n",
    "imheight= 62\n",
    "num_classes = 10\n",
    "X_train, X_val, y_train, y_val = train_test_split(digit_features, digit_labels, test_size=0.2, random_state=10, shuffle = True, stratify=digit_labels)\n",
    "X_train = X_train.reshape(X_train.shape[0], imheight, imwidth, 1)\n",
    "X_val = X_val.reshape(X_val.shape[0], imheight, imwidth, 1)\n",
    "\n",
    "input_shape = (imheight, imwidth, 1)\n",
    "\n"
   ]
  },
  {
   "cell_type": "code",
   "execution_count": 49,
   "metadata": {},
   "outputs": [],
   "source": [
    "cnn = Sequential()\n",
    "cnn.add(Conv2D(32, kernel_size=(3, 3), activation='relu', input_shape=input_shape))\n",
    "cnn.add(Conv2D(64, kernel_size=(3, 3), activation='relu'))\n",
    "cnn.add(MaxPooling2D(pool_size=(2, 2)))\n",
    "cnn.add(Dropout(0.25))\n",
    "cnn.add(Flatten())\n",
    "cnn.add(Dense(128, activation='relu'))\n",
    "cnn.add(Dropout(0.5))\n",
    "cnn.add(Dense(num_classes, activation='softmax'))"
   ]
  },
  {
   "cell_type": "code",
   "execution_count": 50,
   "metadata": {},
   "outputs": [
    {
     "name": "stdout",
     "output_type": "stream",
     "text": [
      "Model: \"sequential_16\"\n",
      "_________________________________________________________________\n",
      "Layer (type)                 Output Shape              Param #   \n",
      "=================================================================\n",
      "conv2d_22 (Conv2D)           (None, 60, 76, 32)        320       \n",
      "_________________________________________________________________\n",
      "conv2d_23 (Conv2D)           (None, 58, 74, 64)        18496     \n",
      "_________________________________________________________________\n",
      "max_pooling2d_8 (MaxPooling2 (None, 29, 37, 64)        0         \n",
      "_________________________________________________________________\n",
      "dropout_9 (Dropout)          (None, 29, 37, 64)        0         \n",
      "_________________________________________________________________\n",
      "flatten_5 (Flatten)          (None, 68672)             0         \n",
      "_________________________________________________________________\n",
      "dense_8 (Dense)              (None, 128)               8790144   \n",
      "_________________________________________________________________\n",
      "dropout_10 (Dropout)         (None, 128)               0         \n",
      "_________________________________________________________________\n",
      "dense_9 (Dense)              (None, 10)                1290      \n",
      "=================================================================\n",
      "Total params: 8,810,250\n",
      "Trainable params: 8,810,250\n",
      "Non-trainable params: 0\n",
      "_________________________________________________________________\n",
      "None\n"
     ]
    }
   ],
   "source": [
    "cnn.compile(loss=keras.losses.categorical_crossentropy, optimizer=keras.optimizers.adam(), metrics=['accuracy'])\n",
    "print(cnn.summary())"
   ]
  },
  {
   "cell_type": "code",
   "execution_count": 55,
   "metadata": {},
   "outputs": [
    {
     "ename": "ValueError",
     "evalue": "Error when checking target: expected dense_9 to have shape (10,) but got array with shape (1,)",
     "output_type": "error",
     "traceback": [
      "\u001b[0;31m---------------------------------------------------------------------------\u001b[0m",
      "\u001b[0;31mValueError\u001b[0m                                Traceback (most recent call last)",
      "\u001b[0;32m<ipython-input-55-85b90d70b021>\u001b[0m in \u001b[0;36m<module>\u001b[0;34m\u001b[0m\n\u001b[1;32m      1\u001b[0m \u001b[0;31m#X_train, X_val, y_train, y_val = train_test_split(digit_features, digit_labels, test_size=0.2, random_state=10, shuffle = True, stratify=digit_labels)\u001b[0m\u001b[0;34m\u001b[0m\u001b[0;34m\u001b[0m\u001b[0;34m\u001b[0m\u001b[0m\n\u001b[0;32m----> 2\u001b[0;31m \u001b[0mcnn\u001b[0m\u001b[0;34m.\u001b[0m\u001b[0mfit\u001b[0m\u001b[0;34m(\u001b[0m\u001b[0mX_train\u001b[0m\u001b[0;34m,\u001b[0m \u001b[0my_train\u001b[0m\u001b[0;34m,\u001b[0m \u001b[0mbatch_size\u001b[0m\u001b[0;34m=\u001b[0m\u001b[0;36m32\u001b[0m\u001b[0;34m,\u001b[0m \u001b[0mepochs\u001b[0m\u001b[0;34m=\u001b[0m\u001b[0;36m10\u001b[0m\u001b[0;34m,\u001b[0m \u001b[0mverbose\u001b[0m\u001b[0;34m=\u001b[0m\u001b[0;36m1\u001b[0m\u001b[0;34m,\u001b[0m \u001b[0mvalidation_data\u001b[0m\u001b[0;34m=\u001b[0m\u001b[0;34m(\u001b[0m\u001b[0mX_val\u001b[0m\u001b[0;34m,\u001b[0m \u001b[0my_val\u001b[0m\u001b[0;34m)\u001b[0m\u001b[0;34m)\u001b[0m\u001b[0;34m\u001b[0m\u001b[0;34m\u001b[0m\u001b[0m\n\u001b[0m",
      "\u001b[0;32m~/anaconda3/lib/python3.7/site-packages/keras/engine/training.py\u001b[0m in \u001b[0;36mfit\u001b[0;34m(self, x, y, batch_size, epochs, verbose, callbacks, validation_split, validation_data, shuffle, class_weight, sample_weight, initial_epoch, steps_per_epoch, validation_steps, validation_freq, max_queue_size, workers, use_multiprocessing, **kwargs)\u001b[0m\n\u001b[1;32m   1152\u001b[0m             \u001b[0msample_weight\u001b[0m\u001b[0;34m=\u001b[0m\u001b[0msample_weight\u001b[0m\u001b[0;34m,\u001b[0m\u001b[0;34m\u001b[0m\u001b[0;34m\u001b[0m\u001b[0m\n\u001b[1;32m   1153\u001b[0m             \u001b[0mclass_weight\u001b[0m\u001b[0;34m=\u001b[0m\u001b[0mclass_weight\u001b[0m\u001b[0;34m,\u001b[0m\u001b[0;34m\u001b[0m\u001b[0;34m\u001b[0m\u001b[0m\n\u001b[0;32m-> 1154\u001b[0;31m             batch_size=batch_size)\n\u001b[0m\u001b[1;32m   1155\u001b[0m \u001b[0;34m\u001b[0m\u001b[0m\n\u001b[1;32m   1156\u001b[0m         \u001b[0;31m# Prepare validation data.\u001b[0m\u001b[0;34m\u001b[0m\u001b[0;34m\u001b[0m\u001b[0;34m\u001b[0m\u001b[0m\n",
      "\u001b[0;32m~/anaconda3/lib/python3.7/site-packages/keras/engine/training.py\u001b[0m in \u001b[0;36m_standardize_user_data\u001b[0;34m(self, x, y, sample_weight, class_weight, check_array_lengths, batch_size)\u001b[0m\n\u001b[1;32m    619\u001b[0m                 \u001b[0mfeed_output_shapes\u001b[0m\u001b[0;34m,\u001b[0m\u001b[0;34m\u001b[0m\u001b[0;34m\u001b[0m\u001b[0m\n\u001b[1;32m    620\u001b[0m                 \u001b[0mcheck_batch_axis\u001b[0m\u001b[0;34m=\u001b[0m\u001b[0;32mFalse\u001b[0m\u001b[0;34m,\u001b[0m  \u001b[0;31m# Don't enforce the batch size.\u001b[0m\u001b[0;34m\u001b[0m\u001b[0;34m\u001b[0m\u001b[0m\n\u001b[0;32m--> 621\u001b[0;31m                 exception_prefix='target')\n\u001b[0m\u001b[1;32m    622\u001b[0m \u001b[0;34m\u001b[0m\u001b[0m\n\u001b[1;32m    623\u001b[0m             \u001b[0;31m# Generate sample-wise weight values given the `sample_weight` and\u001b[0m\u001b[0;34m\u001b[0m\u001b[0;34m\u001b[0m\u001b[0;34m\u001b[0m\u001b[0m\n",
      "\u001b[0;32m~/anaconda3/lib/python3.7/site-packages/keras/engine/training_utils.py\u001b[0m in \u001b[0;36mstandardize_input_data\u001b[0;34m(data, names, shapes, check_batch_axis, exception_prefix)\u001b[0m\n\u001b[1;32m    143\u001b[0m                             \u001b[0;34m': expected '\u001b[0m \u001b[0;34m+\u001b[0m \u001b[0mnames\u001b[0m\u001b[0;34m[\u001b[0m\u001b[0mi\u001b[0m\u001b[0;34m]\u001b[0m \u001b[0;34m+\u001b[0m \u001b[0;34m' to have shape '\u001b[0m \u001b[0;34m+\u001b[0m\u001b[0;34m\u001b[0m\u001b[0;34m\u001b[0m\u001b[0m\n\u001b[1;32m    144\u001b[0m                             \u001b[0mstr\u001b[0m\u001b[0;34m(\u001b[0m\u001b[0mshape\u001b[0m\u001b[0;34m)\u001b[0m \u001b[0;34m+\u001b[0m \u001b[0;34m' but got array with shape '\u001b[0m \u001b[0;34m+\u001b[0m\u001b[0;34m\u001b[0m\u001b[0;34m\u001b[0m\u001b[0m\n\u001b[0;32m--> 145\u001b[0;31m                             str(data_shape))\n\u001b[0m\u001b[1;32m    146\u001b[0m     \u001b[0;32mreturn\u001b[0m \u001b[0mdata\u001b[0m\u001b[0;34m\u001b[0m\u001b[0;34m\u001b[0m\u001b[0m\n\u001b[1;32m    147\u001b[0m \u001b[0;34m\u001b[0m\u001b[0m\n",
      "\u001b[0;31mValueError\u001b[0m: Error when checking target: expected dense_9 to have shape (10,) but got array with shape (1,)"
     ]
    }
   ],
   "source": [
    "#X_train, X_val, y_train, y_val = train_test_split(digit_features, digit_labels, test_size=0.2, random_state=10, shuffle = True, stratify=digit_labels)\n",
    "cnn.fit(X_train, y_train, batch_size=32, epochs=10, verbose=1, validation_data=(X_val, y_val))"
   ]
  },
  {
   "cell_type": "code",
   "execution_count": 53,
   "metadata": {},
   "outputs": [
    {
     "ename": "NameError",
     "evalue": "name 'keras_callback' is not defined",
     "output_type": "error",
     "traceback": [
      "\u001b[0;31m---------------------------------------------------------------------------\u001b[0m",
      "\u001b[0;31mNameError\u001b[0m                                 Traceback (most recent call last)",
      "\u001b[0;32m<ipython-input-53-b8550552f785>\u001b[0m in \u001b[0;36m<module>\u001b[0;34m\u001b[0m\n\u001b[0;32m----> 1\u001b[0;31m \u001b[0mcnn\u001b[0m\u001b[0;34m.\u001b[0m\u001b[0mfit\u001b[0m\u001b[0;34m(\u001b[0m\u001b[0mX_train\u001b[0m\u001b[0;34m,\u001b[0m \u001b[0my_train\u001b[0m\u001b[0;34m,\u001b[0m \u001b[0mbatch_size\u001b[0m\u001b[0;34m=\u001b[0m\u001b[0;36m64\u001b[0m\u001b[0;34m,\u001b[0m \u001b[0mepochs\u001b[0m\u001b[0;34m=\u001b[0m\u001b[0;36m50\u001b[0m\u001b[0;34m,\u001b[0m \u001b[0mverbose\u001b[0m\u001b[0;34m=\u001b[0m\u001b[0;36m1\u001b[0m\u001b[0;34m,\u001b[0m \u001b[0mvalidation_split\u001b[0m\u001b[0;34m=\u001b[0m\u001b[0;36m0.1\u001b[0m\u001b[0;34m,\u001b[0m \u001b[0mcallbacks\u001b[0m\u001b[0;34m=\u001b[0m\u001b[0;34m[\u001b[0m\u001b[0mkeras_callback\u001b[0m\u001b[0;34m]\u001b[0m\u001b[0;34m)\u001b[0m\u001b[0;34m\u001b[0m\u001b[0;34m\u001b[0m\u001b[0m\n\u001b[0m",
      "\u001b[0;31mNameError\u001b[0m: name 'keras_callback' is not defined"
     ]
    }
   ],
   "source": [
    "cnn.fit(X_train, y_train, batch_size=64, epochs=50, verbose=1, validation_split=0.1, callbacks=[keras_callback])"
   ]
  },
  {
   "cell_type": "code",
   "execution_count": 66,
   "metadata": {},
   "outputs": [
    {
     "name": "stdout",
     "output_type": "stream",
     "text": [
      "train X shape: (1600,)\n",
      "test X shape: (400,)\n"
     ]
    }
   ],
   "source": [
    "\n",
    "print('train X shape:', y_train.shape)\n",
    "print('test X shape:', y_val.shape)"
   ]
  },
  {
   "cell_type": "code",
   "execution_count": 67,
   "metadata": {},
   "outputs": [
    {
     "name": "stdout",
     "output_type": "stream",
     "text": [
      "(1600, 62, 78, 1)\n",
      "(400, 62, 78, 1)\n"
     ]
    }
   ],
   "source": [
    "print(X_train.shape)\n",
    "print(X_val.shape)"
   ]
  },
  {
   "cell_type": "code",
   "execution_count": 60,
   "metadata": {},
   "outputs": [],
   "source": [
    "from keras.layers import Dense\n",
    "from keras import Input\n",
    "from keras.engine import Model\n",
    "from keras.utils import to_categorical\n",
    "from keras.layers import Dense, TimeDistributed, Dropout, Bidirectional, GRU, BatchNormalization, Activation, LeakyReLU, \\\n",
    "    LSTM, Flatten, RepeatVector, Permute, Multiply, Conv2D, MaxPooling2D"
   ]
  },
  {
   "cell_type": "code",
   "execution_count": 64,
   "metadata": {},
   "outputs": [
    {
     "name": "stdout",
     "output_type": "stream",
     "text": [
      "Model: \"model_1\"\n",
      "_________________________________________________________________\n",
      "Layer (type)                 Output Shape              Param #   \n",
      "=================================================================\n",
      "input_2 (InputLayer)         (None, 62, 78, 1)         0         \n",
      "_________________________________________________________________\n",
      "conv2d_25 (Conv2D)           (None, 59, 75, 64)        1088      \n",
      "_________________________________________________________________\n",
      "max_pooling2d_9 (MaxPooling2 (None, 14, 18, 64)        0         \n",
      "_________________________________________________________________\n",
      "flatten_6 (Flatten)          (None, 16128)             0         \n",
      "_________________________________________________________________\n",
      "dense_10 (Dense)             (None, 32)                516128    \n",
      "_________________________________________________________________\n",
      "dense_11 (Dense)             (None, 10)                330       \n",
      "=================================================================\n",
      "Total params: 517,546\n",
      "Trainable params: 517,546\n",
      "Non-trainable params: 0\n",
      "_________________________________________________________________\n"
     ]
    },
    {
     "name": "stderr",
     "output_type": "stream",
     "text": [
      "/Users/Wengie/anaconda3/lib/python3.7/site-packages/ipykernel_launcher.py:10: UserWarning: Update your `Model` call to the Keras 2 API: `Model(inputs=Tensor(\"in..., outputs=Tensor(\"de...)`\n",
      "  # Remove the CWD from sys.path while we load stuff.\n"
     ]
    }
   ],
   "source": [
    "ip = Input(shape=X_train[0].shape)\n",
    "m = Conv2D(64, kernel_size=(4, 4), activation='relu')(ip)\n",
    "m = MaxPooling2D(pool_size=(4, 4))(m)\n",
    "# m = Conv2D(128, kernel_size=(2, 2), activation='relu')(ip)\n",
    "# m = MaxPooling2D(pool_size=(2, 2))(m)\n",
    "m = Flatten()(m)\n",
    "m = Dense(32, activation='relu')(m)\n",
    "op = Dense(10, activation='softmax')(m)\n",
    "\n",
    "model = Model(input=ip, output=op)\n",
    "\n",
    "model.summary()"
   ]
  },
  {
   "cell_type": "code",
   "execution_count": 65,
   "metadata": {},
   "outputs": [
    {
     "ename": "ValueError",
     "evalue": "Error when checking target: expected dense_11 to have shape (10,) but got array with shape (1,)",
     "output_type": "error",
     "traceback": [
      "\u001b[0;31m---------------------------------------------------------------------------\u001b[0m",
      "\u001b[0;31mValueError\u001b[0m                                Traceback (most recent call last)",
      "\u001b[0;32m<ipython-input-65-f876374cb20e>\u001b[0m in \u001b[0;36m<module>\u001b[0;34m\u001b[0m\n\u001b[1;32m      8\u001b[0m           \u001b[0mbatch_size\u001b[0m\u001b[0;34m=\u001b[0m\u001b[0;36m32\u001b[0m\u001b[0;34m,\u001b[0m\u001b[0;34m\u001b[0m\u001b[0;34m\u001b[0m\u001b[0m\n\u001b[1;32m      9\u001b[0m           \u001b[0mverbose\u001b[0m\u001b[0;34m=\u001b[0m\u001b[0;36m0\u001b[0m\u001b[0;34m,\u001b[0m\u001b[0;34m\u001b[0m\u001b[0;34m\u001b[0m\u001b[0m\n\u001b[0;32m---> 10\u001b[0;31m           validation_data=(X_val, y_val))\n\u001b[0m",
      "\u001b[0;32m~/anaconda3/lib/python3.7/site-packages/keras/engine/training.py\u001b[0m in \u001b[0;36mfit\u001b[0;34m(self, x, y, batch_size, epochs, verbose, callbacks, validation_split, validation_data, shuffle, class_weight, sample_weight, initial_epoch, steps_per_epoch, validation_steps, validation_freq, max_queue_size, workers, use_multiprocessing, **kwargs)\u001b[0m\n\u001b[1;32m   1152\u001b[0m             \u001b[0msample_weight\u001b[0m\u001b[0;34m=\u001b[0m\u001b[0msample_weight\u001b[0m\u001b[0;34m,\u001b[0m\u001b[0;34m\u001b[0m\u001b[0;34m\u001b[0m\u001b[0m\n\u001b[1;32m   1153\u001b[0m             \u001b[0mclass_weight\u001b[0m\u001b[0;34m=\u001b[0m\u001b[0mclass_weight\u001b[0m\u001b[0;34m,\u001b[0m\u001b[0;34m\u001b[0m\u001b[0;34m\u001b[0m\u001b[0m\n\u001b[0;32m-> 1154\u001b[0;31m             batch_size=batch_size)\n\u001b[0m\u001b[1;32m   1155\u001b[0m \u001b[0;34m\u001b[0m\u001b[0m\n\u001b[1;32m   1156\u001b[0m         \u001b[0;31m# Prepare validation data.\u001b[0m\u001b[0;34m\u001b[0m\u001b[0;34m\u001b[0m\u001b[0;34m\u001b[0m\u001b[0m\n",
      "\u001b[0;32m~/anaconda3/lib/python3.7/site-packages/keras/engine/training.py\u001b[0m in \u001b[0;36m_standardize_user_data\u001b[0;34m(self, x, y, sample_weight, class_weight, check_array_lengths, batch_size)\u001b[0m\n\u001b[1;32m    619\u001b[0m                 \u001b[0mfeed_output_shapes\u001b[0m\u001b[0;34m,\u001b[0m\u001b[0;34m\u001b[0m\u001b[0;34m\u001b[0m\u001b[0m\n\u001b[1;32m    620\u001b[0m                 \u001b[0mcheck_batch_axis\u001b[0m\u001b[0;34m=\u001b[0m\u001b[0;32mFalse\u001b[0m\u001b[0;34m,\u001b[0m  \u001b[0;31m# Don't enforce the batch size.\u001b[0m\u001b[0;34m\u001b[0m\u001b[0;34m\u001b[0m\u001b[0m\n\u001b[0;32m--> 621\u001b[0;31m                 exception_prefix='target')\n\u001b[0m\u001b[1;32m    622\u001b[0m \u001b[0;34m\u001b[0m\u001b[0m\n\u001b[1;32m    623\u001b[0m             \u001b[0;31m# Generate sample-wise weight values given the `sample_weight` and\u001b[0m\u001b[0;34m\u001b[0m\u001b[0;34m\u001b[0m\u001b[0;34m\u001b[0m\u001b[0m\n",
      "\u001b[0;32m~/anaconda3/lib/python3.7/site-packages/keras/engine/training_utils.py\u001b[0m in \u001b[0;36mstandardize_input_data\u001b[0;34m(data, names, shapes, check_batch_axis, exception_prefix)\u001b[0m\n\u001b[1;32m    143\u001b[0m                             \u001b[0;34m': expected '\u001b[0m \u001b[0;34m+\u001b[0m \u001b[0mnames\u001b[0m\u001b[0;34m[\u001b[0m\u001b[0mi\u001b[0m\u001b[0;34m]\u001b[0m \u001b[0;34m+\u001b[0m \u001b[0;34m' to have shape '\u001b[0m \u001b[0;34m+\u001b[0m\u001b[0;34m\u001b[0m\u001b[0;34m\u001b[0m\u001b[0m\n\u001b[1;32m    144\u001b[0m                             \u001b[0mstr\u001b[0m\u001b[0;34m(\u001b[0m\u001b[0mshape\u001b[0m\u001b[0;34m)\u001b[0m \u001b[0;34m+\u001b[0m \u001b[0;34m' but got array with shape '\u001b[0m \u001b[0;34m+\u001b[0m\u001b[0;34m\u001b[0m\u001b[0;34m\u001b[0m\u001b[0m\n\u001b[0;32m--> 145\u001b[0;31m                             str(data_shape))\n\u001b[0m\u001b[1;32m    146\u001b[0m     \u001b[0;32mreturn\u001b[0m \u001b[0mdata\u001b[0m\u001b[0;34m\u001b[0m\u001b[0;34m\u001b[0m\u001b[0m\n\u001b[1;32m    147\u001b[0m \u001b[0;34m\u001b[0m\u001b[0m\n",
      "\u001b[0;31mValueError\u001b[0m: Error when checking target: expected dense_11 to have shape (10,) but got array with shape (1,)"
     ]
    }
   ],
   "source": [
    "\n",
    "model.compile(loss='categorical_crossentropy',\n",
    "              optimizer='adam',\n",
    "              metrics=['accuracy'])\n",
    "\n",
    "history = model.fit(X_train,\n",
    "          y_train,\n",
    "          epochs=100,\n",
    "          batch_size=32,\n",
    "          verbose=0,\n",
    "          validation_data=(X_val, y_val))"
   ]
  },
  {
   "cell_type": "code",
   "execution_count": null,
   "metadata": {},
   "outputs": [],
   "source": []
  }
 ],
 "metadata": {
  "kernelspec": {
   "display_name": "Python 3",
   "language": "python",
   "name": "python3"
  },
  "language_info": {
   "codemirror_mode": {
    "name": "ipython",
    "version": 3
   },
   "file_extension": ".py",
   "mimetype": "text/x-python",
   "name": "python",
   "nbconvert_exporter": "python",
   "pygments_lexer": "ipython3",
   "version": "3.7.3"
  }
 },
 "nbformat": 4,
 "nbformat_minor": 2
}
